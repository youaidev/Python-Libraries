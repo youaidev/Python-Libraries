{
  "nbformat": 4,
  "nbformat_minor": 0,
  "metadata": {
    "colab": {
      "provenance": [],
      "collapsed_sections": [],
      "authorship_tag": "ABX9TyMxm3Jc75kGd/OGmSaaKko0",
      "include_colab_link": true
    },
    "kernelspec": {
      "name": "python3",
      "display_name": "Python 3"
    },
    "language_info": {
      "name": "python"
    }
  },
  "cells": [
    {
      "cell_type": "markdown",
      "metadata": {
        "id": "view-in-github",
        "colab_type": "text"
      },
      "source": [
        "<a href=\"https://colab.research.google.com/github/youaidev/Udemy-210-Exercises-Python-Standard-Libraries-2022/blob/main/Udemy_210%2BExercises_Python_Standard_Libraries_2022.ipynb\" target=\"_parent\"><img src=\"https://colab.research.google.com/assets/colab-badge.svg\" alt=\"Open In Colab\"/></a>"
      ]
    },
    {
      "cell_type": "markdown",
      "source": [
        "# Intro :"
      ],
      "metadata": {
        "id": "y7GrthaORI_K"
      }
    },
    {
      "cell_type": "code",
      "source": [
        "import numpy as np\n",
        "np.__version__"
      ],
      "metadata": {
        "colab": {
          "base_uri": "https://localhost:8080/",
          "height": 35
        },
        "id": "sJDtlI60RIja",
        "outputId": "ed1fb3e1-8aa4-483a-855a-e5aad9e43e43"
      },
      "execution_count": 4,
      "outputs": [
        {
          "output_type": "execute_result",
          "data": {
            "text/plain": [
              "'1.21.6'"
            ],
            "application/vnd.google.colaboratory.intrinsic+json": {
              "type": "string"
            }
          },
          "metadata": {},
          "execution_count": 4
        }
      ]
    },
    {
      "cell_type": "code",
      "source": [
        "np.random.rand?"
      ],
      "metadata": {
        "id": "R55_aCUPSv7Y"
      },
      "execution_count": 5,
      "outputs": []
    },
    {
      "cell_type": "code",
      "source": [
        "!pip install imageai"
      ],
      "metadata": {
        "colab": {
          "base_uri": "https://localhost:8080/"
        },
        "id": "8rGVo1E5S9Cv",
        "outputId": "2bbfdeb5-c9ae-4298-9134-cce6938a638f"
      },
      "execution_count": 1,
      "outputs": [
        {
          "output_type": "stream",
          "name": "stdout",
          "text": [
            "Looking in indexes: https://pypi.org/simple, https://us-python.pkg.dev/colab-wheels/public/simple/\n",
            "Requirement already satisfied: imageai in /usr/local/lib/python3.7/dist-packages (2.1.6)\n",
            "Requirement already satisfied: keras-resnet==0.2.0 in /usr/local/lib/python3.7/dist-packages (from imageai) (0.2.0)\n",
            "Requirement already satisfied: numpy==1.19.3 in /usr/local/lib/python3.7/dist-packages (from imageai) (1.19.3)\n",
            "Requirement already satisfied: scipy==1.4.1 in /usr/local/lib/python3.7/dist-packages (from imageai) (1.4.1)\n",
            "Requirement already satisfied: matplotlib==3.3.2 in /usr/local/lib/python3.7/dist-packages (from imageai) (3.3.2)\n",
            "Requirement already satisfied: keras==2.4.3 in /usr/local/lib/python3.7/dist-packages (from imageai) (2.4.3)\n",
            "Requirement already satisfied: opencv-python in /usr/local/lib/python3.7/dist-packages (from imageai) (4.6.0.66)\n",
            "Requirement already satisfied: pillow==7.0.0 in /usr/local/lib/python3.7/dist-packages (from imageai) (7.0.0)\n",
            "Requirement already satisfied: h5py==2.10.0 in /usr/local/lib/python3.7/dist-packages (from imageai) (2.10.0)\n",
            "Requirement already satisfied: six in /usr/local/lib/python3.7/dist-packages (from h5py==2.10.0->imageai) (1.15.0)\n",
            "Requirement already satisfied: pyyaml in /usr/local/lib/python3.7/dist-packages (from keras==2.4.3->imageai) (6.0)\n",
            "Requirement already satisfied: certifi>=2020.06.20 in /usr/local/lib/python3.7/dist-packages (from matplotlib==3.3.2->imageai) (2022.9.24)\n",
            "Requirement already satisfied: pyparsing!=2.0.4,!=2.1.2,!=2.1.6,>=2.0.3 in /usr/local/lib/python3.7/dist-packages (from matplotlib==3.3.2->imageai) (3.0.9)\n",
            "Requirement already satisfied: python-dateutil>=2.1 in /usr/local/lib/python3.7/dist-packages (from matplotlib==3.3.2->imageai) (2.8.2)\n",
            "Requirement already satisfied: cycler>=0.10 in /usr/local/lib/python3.7/dist-packages (from matplotlib==3.3.2->imageai) (0.11.0)\n",
            "Requirement already satisfied: kiwisolver>=1.0.1 in /usr/local/lib/python3.7/dist-packages (from matplotlib==3.3.2->imageai) (1.4.4)\n",
            "Requirement already satisfied: typing-extensions in /usr/local/lib/python3.7/dist-packages (from kiwisolver>=1.0.1->matplotlib==3.3.2->imageai) (4.1.1)\n"
          ]
        }
      ]
    },
    {
      "cell_type": "markdown",
      "source": [
        "## Markdown\n",
        "\n",
        "#### **font**\n",
        "**bold**  \n",
        "__bold__  \n",
        "`python`  \n",
        "```python```  \n",
        "\n",
        "#### **orderlist**\n",
        "1. one\n",
        "2. two\n",
        "\n",
        "#### **unorderlist**\n",
        "* one\n",
        "* two\n",
        "\n",
        "#### **link**\n",
        "[google](google.com)\n",
        "\n",
        "#### **math** \n",
        "$ y = x^2 $  \n",
        "$ \\frac{1}{n} $  \n",
        "$ \\sum_{i=1}^{n}x_{i} $  \n",
        "$ A = \\begin{pmatrix}\n",
        "a_{1, 1} & a_{1, 2} \\\\\n",
        "a_{2, 1} & a_{2, 2}\n",
        "\\end{pmatrix} $\n",
        "\n",
        "#### **table**\n",
        "col1 | col2 | col3\n",
        "--- | --- | --- |\n",
        "val1 | val2 | val3\n"
      ],
      "metadata": {
        "id": "eaU8DAukUojW"
      }
    }
  ]
}