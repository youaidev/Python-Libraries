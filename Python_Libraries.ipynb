{
  "nbformat": 4,
  "nbformat_minor": 0,
  "metadata": {
    "colab": {
      "provenance": [],
      "collapsed_sections": [],
      "authorship_tag": "ABX9TyMaaWhWoADksJ79wb/k0qRw",
      "include_colab_link": true
    },
    "kernelspec": {
      "name": "python3",
      "display_name": "Python 3"
    },
    "language_info": {
      "name": "python"
    }
  },
  "cells": [
    {
      "cell_type": "markdown",
      "metadata": {
        "id": "view-in-github",
        "colab_type": "text"
      },
      "source": [
        "<a href=\"https://colab.research.google.com/github/youaidev/Python-Libraries/blob/main/Python_Libraries.ipynb\" target=\"_parent\"><img src=\"https://colab.research.google.com/assets/colab-badge.svg\" alt=\"Open In Colab\"/></a>"
      ]
    },
    {
      "cell_type": "markdown",
      "source": [
        "# **Intro**"
      ],
      "metadata": {
        "id": "y7GrthaORI_K"
      }
    },
    {
      "cell_type": "code",
      "source": [
        "import numpy as np\n",
        "np.__version__"
      ],
      "metadata": {
        "colab": {
          "base_uri": "https://localhost:8080/",
          "height": 36
        },
        "id": "sJDtlI60RIja",
        "outputId": "84b3bfca-6581-4e2e-c2f4-43e6400b2dd7"
      },
      "execution_count": 1,
      "outputs": [
        {
          "output_type": "execute_result",
          "data": {
            "text/plain": [
              "'1.21.6'"
            ],
            "application/vnd.google.colaboratory.intrinsic+json": {
              "type": "string"
            }
          },
          "metadata": {},
          "execution_count": 1
        }
      ]
    },
    {
      "cell_type": "code",
      "source": [
        "np.random.rand?"
      ],
      "metadata": {
        "id": "R55_aCUPSv7Y"
      },
      "execution_count": 2,
      "outputs": []
    },
    {
      "cell_type": "code",
      "source": [
        "!pip install imageai"
      ],
      "metadata": {
        "colab": {
          "base_uri": "https://localhost:8080/",
          "height": 1000
        },
        "id": "8rGVo1E5S9Cv",
        "outputId": "bc52a2f4-2a3b-4214-9706-ed7dc60f7fd5"
      },
      "execution_count": 3,
      "outputs": [
        {
          "output_type": "stream",
          "name": "stdout",
          "text": [
            "Looking in indexes: https://pypi.org/simple, https://us-python.pkg.dev/colab-wheels/public/simple/\n",
            "Collecting imageai\n",
            "  Downloading imageai-2.1.6-py3-none-any.whl (160 kB)\n",
            "\u001b[K     |████████████████████████████████| 160 kB 15.6 MB/s \n",
            "\u001b[?25hCollecting keras==2.4.3\n",
            "  Downloading Keras-2.4.3-py2.py3-none-any.whl (36 kB)\n",
            "Collecting numpy==1.19.3\n",
            "  Downloading numpy-1.19.3-cp37-cp37m-manylinux2010_x86_64.whl (14.9 MB)\n",
            "\u001b[K     |████████████████████████████████| 14.9 MB 60.8 MB/s \n",
            "\u001b[?25hCollecting keras-resnet==0.2.0\n",
            "  Downloading keras-resnet-0.2.0.tar.gz (9.3 kB)\n",
            "Collecting h5py==2.10.0\n",
            "  Downloading h5py-2.10.0-cp37-cp37m-manylinux1_x86_64.whl (2.9 MB)\n",
            "\u001b[K     |████████████████████████████████| 2.9 MB 42.6 MB/s \n",
            "\u001b[?25hCollecting scipy==1.4.1\n",
            "  Downloading scipy-1.4.1-cp37-cp37m-manylinux1_x86_64.whl (26.1 MB)\n",
            "\u001b[K     |████████████████████████████████| 26.1 MB 1.2 MB/s \n",
            "\u001b[?25hCollecting matplotlib==3.3.2\n",
            "  Downloading matplotlib-3.3.2-cp37-cp37m-manylinux1_x86_64.whl (11.6 MB)\n",
            "\u001b[K     |████████████████████████████████| 11.6 MB 44.1 MB/s \n",
            "\u001b[?25hCollecting pillow==7.0.0\n",
            "  Downloading Pillow-7.0.0-cp37-cp37m-manylinux1_x86_64.whl (2.1 MB)\n",
            "\u001b[K     |████████████████████████████████| 2.1 MB 39.9 MB/s \n",
            "\u001b[?25hRequirement already satisfied: opencv-python in /usr/local/lib/python3.7/dist-packages (from imageai) (4.6.0.66)\n",
            "Requirement already satisfied: six in /usr/local/lib/python3.7/dist-packages (from h5py==2.10.0->imageai) (1.15.0)\n",
            "Requirement already satisfied: pyyaml in /usr/local/lib/python3.7/dist-packages (from keras==2.4.3->imageai) (6.0)\n",
            "Requirement already satisfied: cycler>=0.10 in /usr/local/lib/python3.7/dist-packages (from matplotlib==3.3.2->imageai) (0.11.0)\n",
            "Requirement already satisfied: pyparsing!=2.0.4,!=2.1.2,!=2.1.6,>=2.0.3 in /usr/local/lib/python3.7/dist-packages (from matplotlib==3.3.2->imageai) (3.0.9)\n",
            "Requirement already satisfied: kiwisolver>=1.0.1 in /usr/local/lib/python3.7/dist-packages (from matplotlib==3.3.2->imageai) (1.4.4)\n",
            "Requirement already satisfied: python-dateutil>=2.1 in /usr/local/lib/python3.7/dist-packages (from matplotlib==3.3.2->imageai) (2.8.2)\n",
            "Requirement already satisfied: certifi>=2020.06.20 in /usr/local/lib/python3.7/dist-packages (from matplotlib==3.3.2->imageai) (2022.9.24)\n",
            "Requirement already satisfied: typing-extensions in /usr/local/lib/python3.7/dist-packages (from kiwisolver>=1.0.1->matplotlib==3.3.2->imageai) (4.1.1)\n",
            "Building wheels for collected packages: keras-resnet\n",
            "  Building wheel for keras-resnet (setup.py) ... \u001b[?25l\u001b[?25hdone\n",
            "  Created wheel for keras-resnet: filename=keras_resnet-0.2.0-py2.py3-none-any.whl size=20486 sha256=d630fa95949a7e6c9f0166527843ba180fcb04d091ecaaa45e9092ee8a5b9f62\n",
            "  Stored in directory: /root/.cache/pip/wheels/bd/ef/06/5d65f696360436c3a423020c4b7fd8c558c09ef264a0e6c575\n",
            "Successfully built keras-resnet\n",
            "Installing collected packages: numpy, scipy, h5py, pillow, keras, matplotlib, keras-resnet, imageai\n",
            "  Attempting uninstall: numpy\n",
            "    Found existing installation: numpy 1.21.6\n",
            "    Uninstalling numpy-1.21.6:\n",
            "      Successfully uninstalled numpy-1.21.6\n",
            "  Attempting uninstall: scipy\n",
            "    Found existing installation: scipy 1.7.3\n",
            "    Uninstalling scipy-1.7.3:\n",
            "      Successfully uninstalled scipy-1.7.3\n",
            "  Attempting uninstall: h5py\n",
            "    Found existing installation: h5py 3.1.0\n",
            "    Uninstalling h5py-3.1.0:\n",
            "      Successfully uninstalled h5py-3.1.0\n",
            "  Attempting uninstall: pillow\n",
            "    Found existing installation: Pillow 7.1.2\n",
            "    Uninstalling Pillow-7.1.2:\n",
            "      Successfully uninstalled Pillow-7.1.2\n",
            "  Attempting uninstall: keras\n",
            "    Found existing installation: keras 2.9.0\n",
            "    Uninstalling keras-2.9.0:\n",
            "      Successfully uninstalled keras-2.9.0\n",
            "  Attempting uninstall: matplotlib\n",
            "    Found existing installation: matplotlib 3.2.2\n",
            "    Uninstalling matplotlib-3.2.2:\n",
            "      Successfully uninstalled matplotlib-3.2.2\n",
            "\u001b[31mERROR: pip's dependency resolver does not currently take into account all the packages that are installed. This behaviour is the source of the following dependency conflicts.\n",
            "xarray-einstats 0.2.2 requires numpy>=1.21, but you have numpy 1.19.3 which is incompatible.\n",
            "tensorflow 2.9.2 requires keras<2.10.0,>=2.9.0rc0, but you have keras 2.4.3 which is incompatible.\n",
            "tensorflow 2.9.2 requires numpy>=1.20, but you have numpy 1.19.3 which is incompatible.\n",
            "plotnine 0.8.0 requires scipy>=1.5.0, but you have scipy 1.4.1 which is incompatible.\n",
            "jaxlib 0.3.22+cuda11.cudnn805 requires numpy>=1.20, but you have numpy 1.19.3 which is incompatible.\n",
            "jaxlib 0.3.22+cuda11.cudnn805 requires scipy>=1.5, but you have scipy 1.4.1 which is incompatible.\n",
            "jax 0.3.23 requires numpy>=1.20, but you have numpy 1.19.3 which is incompatible.\n",
            "jax 0.3.23 requires scipy>=1.5, but you have scipy 1.4.1 which is incompatible.\n",
            "cmdstanpy 1.0.8 requires numpy>=1.21, but you have numpy 1.19.3 which is incompatible.\n",
            "bokeh 2.3.3 requires pillow>=7.1.0, but you have pillow 7.0.0 which is incompatible.\u001b[0m\n",
            "Successfully installed h5py-2.10.0 imageai-2.1.6 keras-2.4.3 keras-resnet-0.2.0 matplotlib-3.3.2 numpy-1.19.3 pillow-7.0.0 scipy-1.4.1\n"
          ]
        },
        {
          "output_type": "display_data",
          "data": {
            "application/vnd.colab-display-data+json": {
              "pip_warning": {
                "packages": [
                  "PIL",
                  "matplotlib",
                  "mpl_toolkits",
                  "numpy"
                ]
              }
            }
          },
          "metadata": {}
        }
      ]
    },
    {
      "cell_type": "markdown",
      "source": [
        "# **Markdown**\n"
      ],
      "metadata": {
        "id": "eaU8DAukUojW"
      }
    },
    {
      "cell_type": "markdown",
      "source": [
        ">#### **font**\n",
        ">>**bold**  \n",
        ">>__bold__  \n",
        ">>`python`  \n",
        ">>```python```  \n",
        ">#### **orderlist**\n",
        ">>1. one\n",
        ">>2. two\n",
        ">#### **unorderlist**\n",
        ">>* one\n",
        ">>* two\n",
        ">#### **link**\n",
        ">>[google](google.com)\n",
        ">#### **math** \n",
        ">>$ y = x^2 $  \n",
        ">>$ \\frac{1}{n} $  \n",
        ">>$ \\sum_{i=1}^{n}x_{i} $  \n",
        "$$ \n",
        "\\begin{pmatrix}\\\\\n",
        "a_{1, 1} & a_{1, 2}\\\\\n",
        "a_{2, 1} & a_{2, 2}\\\\\n",
        "\\end{pmatrix}\n",
        "$$\n",
        ">#### **table**\n",
        ">>col1 | col2 | col3\n",
        ">>--- | --- | --- |\n",
        ">>val1 | val2 | val3\n",
        "\n"
      ],
      "metadata": {
        "id": "8AdoyBI_ruM0"
      }
    },
    {
      "cell_type": "markdown",
      "source": [
        "# **sys**\n",
        "🪕 [Sys - System Library | المكتبة البايثونيَة - مكتبة نظام البايثون](https://www.youtube.com/watch?v=5DqzgYLbeI0)  \n"
      ],
      "metadata": {
        "id": "Nry0gd4oSJnP"
      }
    },
    {
      "cell_type": "markdown",
      "source": [
        "## version"
      ],
      "metadata": {
        "id": "eXwPe6KlnwTz"
      }
    },
    {
      "cell_type": "code",
      "source": [
        "import sys\n",
        "print(sys.version)\n",
        "print(sys.version.split(' '))\n",
        "print(sys.version.split(' ')[0])"
      ],
      "metadata": {
        "colab": {
          "base_uri": "https://localhost:8080/"
        },
        "id": "vj5pvKISSSwf",
        "outputId": "cbc93312-93af-4004-8f03-21e4f6162e43"
      },
      "execution_count": 4,
      "outputs": [
        {
          "output_type": "stream",
          "name": "stdout",
          "text": [
            "3.7.15 (default, Oct 12 2022, 19:14:55) \n",
            "[GCC 7.5.0]\n",
            "['3.7.15', '(default,', 'Oct', '12', '2022,', '19:14:55)', '\\n[GCC', '7.5.0]']\n",
            "3.7.15\n"
          ]
        }
      ]
    },
    {
      "cell_type": "markdown",
      "source": [
        "## stdout"
      ],
      "metadata": {
        "id": "VXpPV65cn2S8"
      }
    },
    {
      "cell_type": "code",
      "source": [
        "sys.stdout.write('hello\\n')\n",
        "print('hello')"
      ],
      "metadata": {
        "colab": {
          "base_uri": "https://localhost:8080/"
        },
        "id": "14pY8OtlkUW3",
        "outputId": "03ce4413-ad46-494a-9d67-a46b099f5027"
      },
      "execution_count": 5,
      "outputs": [
        {
          "output_type": "stream",
          "name": "stdout",
          "text": [
            "hello\n",
            "hello\n"
          ]
        }
      ]
    },
    {
      "cell_type": "markdown",
      "source": [
        "## maxsize"
      ],
      "metadata": {
        "id": "GDOjxohw87M9"
      }
    },
    {
      "cell_type": "code",
      "source": [
        "sys.maxsize"
      ],
      "metadata": {
        "colab": {
          "base_uri": "https://localhost:8080/"
        },
        "id": "GNw35v7U8_PM",
        "outputId": "fdb99d68-3dab-4980-c3e4-abf1d9be1e31"
      },
      "execution_count": 6,
      "outputs": [
        {
          "output_type": "execute_result",
          "data": {
            "text/plain": [
              "9223372036854775807"
            ]
          },
          "metadata": {},
          "execution_count": 6
        }
      ]
    },
    {
      "cell_type": "markdown",
      "source": [
        "## path"
      ],
      "metadata": {
        "id": "Hpsdvjpm-On5"
      }
    },
    {
      "cell_type": "code",
      "source": [
        "sys.path"
      ],
      "metadata": {
        "colab": {
          "base_uri": "https://localhost:8080/"
        },
        "id": "pHttmJzC-Qe5",
        "outputId": "c1babff2-3146-4f4a-cebe-b2300fb169a2"
      },
      "execution_count": 7,
      "outputs": [
        {
          "output_type": "execute_result",
          "data": {
            "text/plain": [
              "['/content',\n",
              " '/env/python',\n",
              " '/usr/lib/python37.zip',\n",
              " '/usr/lib/python3.7',\n",
              " '/usr/lib/python3.7/lib-dynload',\n",
              " '',\n",
              " '/usr/local/lib/python3.7/dist-packages',\n",
              " '/usr/lib/python3/dist-packages',\n",
              " '/usr/local/lib/python3.7/dist-packages/IPython/extensions',\n",
              " '/root/.ipython']"
            ]
          },
          "metadata": {},
          "execution_count": 7
        }
      ]
    },
    {
      "cell_type": "markdown",
      "source": [
        "## exit"
      ],
      "metadata": {
        "id": "kTjbStOg-8Zz"
      }
    },
    {
      "cell_type": "code",
      "source": [
        "sys.exit()"
      ],
      "metadata": {
        "colab": {
          "base_uri": "https://localhost:8080/",
          "height": 153
        },
        "id": "Z2O5-Nua-_oj",
        "outputId": "d56333b7-61e6-4b93-f9af-062a68ed4c59"
      },
      "execution_count": 8,
      "outputs": [
        {
          "output_type": "error",
          "ename": "SystemExit",
          "evalue": "ignored",
          "traceback": [
            "An exception has occurred, use %tb to see the full traceback.\n",
            "\u001b[0;31mSystemExit\u001b[0m\n"
          ]
        },
        {
          "output_type": "stream",
          "name": "stderr",
          "text": [
            "/usr/local/lib/python3.7/dist-packages/IPython/core/interactiveshell.py:3334: UserWarning: To exit: use 'exit', 'quit', or Ctrl-D.\n",
            "  warn(\"To exit: use 'exit', 'quit', or Ctrl-D.\", stacklevel=1)\n"
          ]
        }
      ]
    },
    {
      "cell_type": "markdown",
      "source": [
        "#**datetime**\n",
        "\n",
        "🪕 [شرح مكتبة datetime في بايثون | تعامل مع الاوقات والتواريخ بسهولة](https://youtu.be/VNoTEPiU4_4?t=724)\n",
        " "
      ],
      "metadata": {
        "id": "TFKYwwjMUIFN"
      }
    },
    {
      "cell_type": "code",
      "source": [
        "import datetime"
      ],
      "metadata": {
        "id": "VFZldHtk1Jha"
      },
      "execution_count": 9,
      "outputs": []
    },
    {
      "cell_type": "markdown",
      "source": [
        "## date"
      ],
      "metadata": {
        "id": "cj0nRtaB2ZO4"
      }
    },
    {
      "cell_type": "code",
      "source": [
        "date = datetime.date(2021, 8, 30)\n",
        "print(date)\n",
        "print(type(date))"
      ],
      "metadata": {
        "colab": {
          "base_uri": "https://localhost:8080/"
        },
        "id": "6g7MCXIr1kaI",
        "outputId": "a1d2db16-9759-4380-f542-ea7e7984a7a9"
      },
      "execution_count": 16,
      "outputs": [
        {
          "output_type": "stream",
          "name": "stdout",
          "text": [
            "2021-08-30\n",
            "<class 'datetime.date'>\n"
          ]
        }
      ]
    },
    {
      "cell_type": "markdown",
      "source": [
        "### today"
      ],
      "metadata": {
        "id": "Vs6jUlwi2byP"
      }
    },
    {
      "cell_type": "code",
      "source": [
        "today = datetime.date.today()\n",
        "print('date:', today)\n",
        "print('day:', today.day)\n",
        "print('month:', today.month)\n",
        "print('year:', today.year)\n",
        "print('day(0 to 6) in week:', today.weekday())\n",
        "print('day(1 to 7) in week:', today.isoweekday())"
      ],
      "metadata": {
        "colab": {
          "base_uri": "https://localhost:8080/"
        },
        "id": "mxte4FAT2fnX",
        "outputId": "93aff647-550f-4094-f804-d663b21aaca1"
      },
      "execution_count": 34,
      "outputs": [
        {
          "output_type": "stream",
          "name": "stdout",
          "text": [
            "date: 2022-11-11\n",
            "day: 11\n",
            "month: 11\n",
            "year: 2022\n",
            "day(0 to 6) in week: 4\n",
            "day(1 to 7) in week: 5\n",
            "the rest of times: 51 days, 0:00:00\n",
            "the rest of days: 51\n",
            "the rest of seconds: <built-in method total_seconds of datetime.timedelta object at 0x7f5459dd2930>\n"
          ]
        }
      ]
    },
    {
      "cell_type": "markdown",
      "source": [
        "## timedelta"
      ],
      "metadata": {
        "id": "WmTBQC114Vc4"
      }
    },
    {
      "cell_type": "code",
      "source": [
        "today = datetime.date.today()\n",
        "delta = datetime.timedelta(days=30)\n",
        "print('date of 30 days ago:', today - delta)\n",
        "print('date of 30 days after: ', today + delta)\n",
        "next_year = datetime.date(2023, 1, 1)\n",
        "delta = next_year - today\n",
        "print('the rest of times:', delta) \n",
        "print('the rest of days:', delta.days)\n",
        "print('the rest of seconds:', delta.total_seconds())\n"
      ],
      "metadata": {
        "colab": {
          "base_uri": "https://localhost:8080/"
        },
        "id": "8fh8IK0O4Zav",
        "outputId": "46755a99-9e65-4ab4-ac97-12c27f6cd87d"
      },
      "execution_count": 36,
      "outputs": [
        {
          "output_type": "stream",
          "name": "stdout",
          "text": [
            "date of 30 days ago: 2022-10-12\n",
            "date of 30 days after:  2022-12-11\n",
            "the rest of times: 51 days, 0:00:00\n",
            "the rest of days: 51\n",
            "the rest of seconds: 4406400.0\n",
            "the rest of seconds: -999999999 days, 0:00:00\n"
          ]
        }
      ]
    },
    {
      "cell_type": "markdown",
      "source": [
        "## time"
      ],
      "metadata": {
        "id": "WDe_plS4_JFN"
      }
    },
    {
      "cell_type": "code",
      "source": [
        "time = datetime.time(11, 54, 33, 999999)\n",
        "print('time:', time)\n",
        "print('hour:', time.hour)\n",
        "print('minute:', time.minute)\n",
        "print('second:', time.second)\n",
        "print('microsecond:', time.microsecond)"
      ],
      "metadata": {
        "colab": {
          "base_uri": "https://localhost:8080/"
        },
        "id": "smN7jesq_LfE",
        "outputId": "3874957a-3b64-4309-b85d-f413c54ec370"
      },
      "execution_count": 39,
      "outputs": [
        {
          "output_type": "stream",
          "name": "stdout",
          "text": [
            "time: 11:54:33.999999\n",
            "hour: 11\n",
            "minute: 54\n",
            "second: 33\n",
            "microsecond: 999999\n"
          ]
        }
      ]
    },
    {
      "cell_type": "markdown",
      "source": [],
      "metadata": {
        "id": "rCg0D7qzVoRN"
      }
    }
  ]
}