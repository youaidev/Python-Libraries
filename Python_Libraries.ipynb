{
  "nbformat": 4,
  "nbformat_minor": 0,
  "metadata": {
    "colab": {
      "provenance": [],
      "collapsed_sections": [],
      "authorship_tag": "ABX9TyPAiqgRnPB7nr2ZJetx6cDM",
      "include_colab_link": true
    },
    "kernelspec": {
      "name": "python3",
      "display_name": "Python 3"
    },
    "language_info": {
      "name": "python"
    }
  },
  "cells": [
    {
      "cell_type": "markdown",
      "metadata": {
        "id": "view-in-github",
        "colab_type": "text"
      },
      "source": [
        "<a href=\"https://colab.research.google.com/github/youaidev/Python-Libraries/blob/main/Python_Libraries.ipynb\" target=\"_parent\"><img src=\"https://colab.research.google.com/assets/colab-badge.svg\" alt=\"Open In Colab\"/></a>"
      ]
    },
    {
      "cell_type": "markdown",
      "source": [
        "# **Intro**"
      ],
      "metadata": {
        "id": "y7GrthaORI_K"
      }
    },
    {
      "cell_type": "code",
      "source": [
        "# import lib\n",
        "import numpy as np\n",
        "# version\n",
        "np.__version__"
      ],
      "metadata": {
        "colab": {
          "base_uri": "https://localhost:8080/",
          "height": 36
        },
        "id": "sJDtlI60RIja",
        "outputId": "165ca1e4-b376-4da3-c09d-422ad21444a8"
      },
      "execution_count": null,
      "outputs": [
        {
          "output_type": "execute_result",
          "data": {
            "text/plain": [
              "'1.21.6'"
            ],
            "application/vnd.google.colaboratory.intrinsic+json": {
              "type": "string"
            }
          },
          "metadata": {},
          "execution_count": 41
        }
      ]
    },
    {
      "cell_type": "code",
      "source": [
        "# info \n",
        "np.random.rand?"
      ],
      "metadata": {
        "id": "R55_aCUPSv7Y"
      },
      "execution_count": null,
      "outputs": []
    },
    {
      "cell_type": "code",
      "source": [
        "# to install packages : \n",
        "\"\"\" !pip install <lib> \"\"\"\n"
      ],
      "metadata": {
        "colab": {
          "base_uri": "https://localhost:8080/",
          "height": 36
        },
        "id": "8rGVo1E5S9Cv",
        "outputId": "00cdf143-0374-436a-a1c5-22326b8ccca5"
      },
      "execution_count": null,
      "outputs": [
        {
          "output_type": "execute_result",
          "data": {
            "text/plain": [
              "' !pip install <lib> '"
            ],
            "application/vnd.google.colaboratory.intrinsic+json": {
              "type": "string"
            }
          },
          "metadata": {},
          "execution_count": 44
        }
      ]
    },
    {
      "cell_type": "markdown",
      "source": [
        "# **Markdown**\n"
      ],
      "metadata": {
        "id": "eaU8DAukUojW"
      }
    },
    {
      "cell_type": "markdown",
      "source": [
        ">#### **font**\n",
        ">>**bold**  \n",
        ">>__bold__  \n",
        ">>`python`  \n",
        ">>```python```  \n",
        ">#### **orderlist**\n",
        ">>1. one\n",
        ">>2. two\n",
        ">#### **unorderlist**\n",
        ">>* one\n",
        ">>* two\n",
        ">#### **link**\n",
        ">>[google](google.com)\n",
        ">#### **math** \n",
        ">>$ y = x^2 $  \n",
        ">>$ \\frac{1}{n} $  \n",
        ">>$ \\sum_{i=1}^{n}x_{i} $  \n",
        "$$ \n",
        "\\begin{pmatrix}\\\\\n",
        "a_{1, 1} & a_{1, 2}\\\\\n",
        "a_{2, 1} & a_{2, 2}\\\\\n",
        "\\end{pmatrix}\n",
        "$$\n",
        ">#### **table**\n",
        ">>col1 | col2 | col3\n",
        ">>--- | --- | --- |\n",
        ">>val1 | val2 | val3\n",
        "\n"
      ],
      "metadata": {
        "id": "8AdoyBI_ruM0"
      }
    },
    {
      "cell_type": "markdown",
      "source": [
        "# **sys**\n",
        "🪕 [Sys - System Library | المكتبة البايثونيَة - مكتبة نظام البايثون](https://www.youtube.com/watch?v=5DqzgYLbeI0)  \n"
      ],
      "metadata": {
        "id": "Nry0gd4oSJnP"
      }
    },
    {
      "cell_type": "markdown",
      "source": [
        "## version"
      ],
      "metadata": {
        "id": "eXwPe6KlnwTz"
      }
    },
    {
      "cell_type": "code",
      "source": [
        "import sys\n",
        "print(sys.version)\n",
        "print(sys.version.split(' '))\n",
        "print(sys.version.split(' ')[0])"
      ],
      "metadata": {
        "colab": {
          "base_uri": "https://localhost:8080/"
        },
        "id": "vj5pvKISSSwf",
        "outputId": "cbc93312-93af-4004-8f03-21e4f6162e43"
      },
      "execution_count": null,
      "outputs": [
        {
          "output_type": "stream",
          "name": "stdout",
          "text": [
            "3.7.15 (default, Oct 12 2022, 19:14:55) \n",
            "[GCC 7.5.0]\n",
            "['3.7.15', '(default,', 'Oct', '12', '2022,', '19:14:55)', '\\n[GCC', '7.5.0]']\n",
            "3.7.15\n"
          ]
        }
      ]
    },
    {
      "cell_type": "markdown",
      "source": [
        "## stdout"
      ],
      "metadata": {
        "id": "VXpPV65cn2S8"
      }
    },
    {
      "cell_type": "code",
      "source": [
        "sys.stdout.write('hello\\n')\n",
        "print('hello')"
      ],
      "metadata": {
        "colab": {
          "base_uri": "https://localhost:8080/"
        },
        "id": "14pY8OtlkUW3",
        "outputId": "03ce4413-ad46-494a-9d67-a46b099f5027"
      },
      "execution_count": null,
      "outputs": [
        {
          "output_type": "stream",
          "name": "stdout",
          "text": [
            "hello\n",
            "hello\n"
          ]
        }
      ]
    },
    {
      "cell_type": "markdown",
      "source": [
        "## maxsize"
      ],
      "metadata": {
        "id": "GDOjxohw87M9"
      }
    },
    {
      "cell_type": "code",
      "source": [
        "sys.maxsize"
      ],
      "metadata": {
        "colab": {
          "base_uri": "https://localhost:8080/"
        },
        "id": "GNw35v7U8_PM",
        "outputId": "fdb99d68-3dab-4980-c3e4-abf1d9be1e31"
      },
      "execution_count": null,
      "outputs": [
        {
          "output_type": "execute_result",
          "data": {
            "text/plain": [
              "9223372036854775807"
            ]
          },
          "metadata": {},
          "execution_count": 6
        }
      ]
    },
    {
      "cell_type": "markdown",
      "source": [
        "## path"
      ],
      "metadata": {
        "id": "Hpsdvjpm-On5"
      }
    },
    {
      "cell_type": "code",
      "source": [
        "sys.path"
      ],
      "metadata": {
        "colab": {
          "base_uri": "https://localhost:8080/"
        },
        "id": "pHttmJzC-Qe5",
        "outputId": "c1babff2-3146-4f4a-cebe-b2300fb169a2"
      },
      "execution_count": null,
      "outputs": [
        {
          "output_type": "execute_result",
          "data": {
            "text/plain": [
              "['/content',\n",
              " '/env/python',\n",
              " '/usr/lib/python37.zip',\n",
              " '/usr/lib/python3.7',\n",
              " '/usr/lib/python3.7/lib-dynload',\n",
              " '',\n",
              " '/usr/local/lib/python3.7/dist-packages',\n",
              " '/usr/lib/python3/dist-packages',\n",
              " '/usr/local/lib/python3.7/dist-packages/IPython/extensions',\n",
              " '/root/.ipython']"
            ]
          },
          "metadata": {},
          "execution_count": 7
        }
      ]
    },
    {
      "cell_type": "markdown",
      "source": [
        "## exit"
      ],
      "metadata": {
        "id": "kTjbStOg-8Zz"
      }
    },
    {
      "cell_type": "code",
      "source": [
        "sys.exit()"
      ],
      "metadata": {
        "colab": {
          "base_uri": "https://localhost:8080/",
          "height": 153
        },
        "id": "Z2O5-Nua-_oj",
        "outputId": "d56333b7-61e6-4b93-f9af-062a68ed4c59"
      },
      "execution_count": null,
      "outputs": [
        {
          "output_type": "error",
          "ename": "SystemExit",
          "evalue": "ignored",
          "traceback": [
            "An exception has occurred, use %tb to see the full traceback.\n",
            "\u001b[0;31mSystemExit\u001b[0m\n"
          ]
        },
        {
          "output_type": "stream",
          "name": "stderr",
          "text": [
            "/usr/local/lib/python3.7/dist-packages/IPython/core/interactiveshell.py:3334: UserWarning: To exit: use 'exit', 'quit', or Ctrl-D.\n",
            "  warn(\"To exit: use 'exit', 'quit', or Ctrl-D.\", stacklevel=1)\n"
          ]
        }
      ]
    },
    {
      "cell_type": "markdown",
      "source": [
        "#**datetime**\n",
        "\n",
        "🪕 [شرح مكتبة datetime في بايثون | تعامل مع الاوقات والتواريخ بسهولة](https://youtu.be/VNoTEPiU4_4?t=1297)\n",
        " "
      ],
      "metadata": {
        "id": "TFKYwwjMUIFN"
      }
    },
    {
      "cell_type": "code",
      "source": [
        "import datetime"
      ],
      "metadata": {
        "id": "VFZldHtk1Jha"
      },
      "execution_count": 2,
      "outputs": []
    },
    {
      "cell_type": "markdown",
      "source": [
        "## date"
      ],
      "metadata": {
        "id": "cj0nRtaB2ZO4"
      }
    },
    {
      "cell_type": "code",
      "source": [
        "date = datetime.date(2021, 8, 30)\n",
        "print(date)\n",
        "print(type(date))"
      ],
      "metadata": {
        "colab": {
          "base_uri": "https://localhost:8080/"
        },
        "id": "6g7MCXIr1kaI",
        "outputId": "a1d2db16-9759-4380-f542-ea7e7984a7a9"
      },
      "execution_count": null,
      "outputs": [
        {
          "output_type": "stream",
          "name": "stdout",
          "text": [
            "2021-08-30\n",
            "<class 'datetime.date'>\n"
          ]
        }
      ]
    },
    {
      "cell_type": "markdown",
      "source": [
        "### today"
      ],
      "metadata": {
        "id": "Vs6jUlwi2byP"
      }
    },
    {
      "cell_type": "code",
      "source": [
        "today = datetime.date.today()\n",
        "print('date:', today)\n",
        "print('day:', today.day)\n",
        "print('month:', today.month)\n",
        "print('year:', today.year)\n",
        "print('day(0 to 6) in week:', today.weekday())\n",
        "print('day(1 to 7) in week:', today.isoweekday())"
      ],
      "metadata": {
        "colab": {
          "base_uri": "https://localhost:8080/"
        },
        "id": "mxte4FAT2fnX",
        "outputId": "93aff647-550f-4094-f804-d663b21aaca1"
      },
      "execution_count": null,
      "outputs": [
        {
          "output_type": "stream",
          "name": "stdout",
          "text": [
            "date: 2022-11-11\n",
            "day: 11\n",
            "month: 11\n",
            "year: 2022\n",
            "day(0 to 6) in week: 4\n",
            "day(1 to 7) in week: 5\n",
            "the rest of times: 51 days, 0:00:00\n",
            "the rest of days: 51\n",
            "the rest of seconds: <built-in method total_seconds of datetime.timedelta object at 0x7f5459dd2930>\n"
          ]
        }
      ]
    },
    {
      "cell_type": "markdown",
      "source": [
        "## timedelta"
      ],
      "metadata": {
        "id": "WmTBQC114Vc4"
      }
    },
    {
      "cell_type": "code",
      "source": [
        "today = datetime.date.today()\n",
        "delta = datetime.timedelta(days=30)\n",
        "print('date of 30 days ago:', today - delta)\n",
        "print('date of 30 days after: ', today + delta)\n",
        "next_year = datetime.date(2023, 1, 1)\n",
        "delta = next_year - today\n",
        "print('the rest of times:', delta) \n",
        "print('the rest of days:', delta.days)\n",
        "print('the rest of seconds:', delta.total_seconds())\n"
      ],
      "metadata": {
        "colab": {
          "base_uri": "https://localhost:8080/"
        },
        "id": "8fh8IK0O4Zav",
        "outputId": "46755a99-9e65-4ab4-ac97-12c27f6cd87d"
      },
      "execution_count": null,
      "outputs": [
        {
          "output_type": "stream",
          "name": "stdout",
          "text": [
            "date of 30 days ago: 2022-10-12\n",
            "date of 30 days after:  2022-12-11\n",
            "the rest of times: 51 days, 0:00:00\n",
            "the rest of days: 51\n",
            "the rest of seconds: 4406400.0\n",
            "the rest of seconds: -999999999 days, 0:00:00\n"
          ]
        }
      ]
    },
    {
      "cell_type": "markdown",
      "source": [
        "## time"
      ],
      "metadata": {
        "id": "WDe_plS4_JFN"
      }
    },
    {
      "cell_type": "code",
      "source": [
        "time = datetime.time(11, 54, 33, 999999)\n",
        "print('time:', time)\n",
        "print('hour:', time.hour)\n",
        "print('minute:', time.minute)\n",
        "print('second:', time.second)\n",
        "print('microsecond:', time.microsecond)"
      ],
      "metadata": {
        "colab": {
          "base_uri": "https://localhost:8080/"
        },
        "id": "smN7jesq_LfE",
        "outputId": "3874957a-3b64-4309-b85d-f413c54ec370"
      },
      "execution_count": null,
      "outputs": [
        {
          "output_type": "stream",
          "name": "stdout",
          "text": [
            "time: 11:54:33.999999\n",
            "hour: 11\n",
            "minute: 54\n",
            "second: 33\n",
            "microsecond: 999999\n"
          ]
        }
      ]
    },
    {
      "cell_type": "markdown",
      "source": [
        "## datetime"
      ],
      "metadata": {
        "id": "-gjZUtsATnE2"
      }
    },
    {
      "cell_type": "code",
      "source": [
        "dtime = datetime.datetime(2021, 8, 30, 5, 20, 11, 99999)\n",
        "print('datetime:', dtime)\n",
        "print('date:', dtime.date())\n",
        "print('time:', dtime.time())"
      ],
      "metadata": {
        "colab": {
          "base_uri": "https://localhost:8080/"
        },
        "id": "oAsCB1GfTsT3",
        "outputId": "305fb2ba-eace-40e4-ee09-9875bd682fc9"
      },
      "execution_count": 8,
      "outputs": [
        {
          "output_type": "stream",
          "name": "stdout",
          "text": [
            "datetime: 2021-08-30 05:20:11.099999\n",
            "date: 2021-08-30\n",
            "time: 05:20:11.099999\n",
            "after 7 days: 2022-11-20 00:14:48.672537\n"
          ]
        }
      ]
    },
    {
      "cell_type": "markdown",
      "source": [
        "### today"
      ],
      "metadata": {
        "id": "rCg0D7qzVoRN"
      }
    },
    {
      "cell_type": "code",
      "source": [
        "delta = datetime.timedelta(days=7)\n",
        "dtimeToday = datetime.datetime.today()\n",
        "print('after 7 days:', dtimeToday + delta)"
      ],
      "metadata": {
        "colab": {
          "base_uri": "https://localhost:8080/"
        },
        "id": "a7hVENUOWIqe",
        "outputId": "b2d1c410-8369-4047-97a8-b203f5cebd34"
      },
      "execution_count": 9,
      "outputs": [
        {
          "output_type": "stream",
          "name": "stdout",
          "text": [
            "after 7 days: 2022-11-20 00:16:51.548277\n"
          ]
        }
      ]
    },
    {
      "cell_type": "markdown",
      "source": [
        "### now"
      ],
      "metadata": {
        "id": "5gqi8NLuVkOW"
      }
    },
    {
      "cell_type": "code",
      "source": [
        "delta = datetime.timedelta(days=7)\n",
        "dtimeToday = datetime.datetime.now()\n",
        "print('after 7 days:', dtimeToday + delta)\n",
        "print('time zone info:', dtimeToday.tzinfo)"
      ],
      "metadata": {
        "colab": {
          "base_uri": "https://localhost:8080/"
        },
        "id": "7lb8OClqWTz-",
        "outputId": "0596dfd1-8522-45a2-95cb-5cfb28c4cda6"
      },
      "execution_count": 12,
      "outputs": [
        {
          "output_type": "stream",
          "name": "stdout",
          "text": [
            "after 7 days: 2022-11-20 00:21:09.345099\n",
            "None\n"
          ]
        }
      ]
    },
    {
      "cell_type": "markdown",
      "source": [
        "### utcnow"
      ],
      "metadata": {
        "id": "Mkb2567WWqyc"
      }
    },
    {
      "cell_type": "code",
      "source": [
        "delta = datetime.timedelta(days=7)\n",
        "dtimeToday = datetime.datetime.utcnow()\n",
        "print('after 7 days:', dtimeToday + delta)\n",
        "print('time zone info:', dtimeToday.tzinfo)"
      ],
      "metadata": {
        "colab": {
          "base_uri": "https://localhost:8080/"
        },
        "id": "wu0MSDOiWt5c",
        "outputId": "a6382fa3-499e-4417-809d-95485c86ff73"
      },
      "execution_count": 13,
      "outputs": [
        {
          "output_type": "stream",
          "name": "stdout",
          "text": [
            "after 7 days: 2022-11-20 00:21:12.580983\n",
            "None\n"
          ]
        }
      ]
    },
    {
      "cell_type": "markdown",
      "source": [
        "# dateutil"
      ],
      "metadata": {
        "id": "6gRnBMyGXsD2"
      }
    },
    {
      "cell_type": "code",
      "source": [
        "!pip install python-dateutil"
      ],
      "metadata": {
        "colab": {
          "base_uri": "https://localhost:8080/"
        },
        "id": "71I6_4vWX3bE",
        "outputId": "fe26204b-283c-43f0-a1fc-5402c5f45b7c"
      },
      "execution_count": 15,
      "outputs": [
        {
          "output_type": "stream",
          "name": "stdout",
          "text": [
            "Looking in indexes: https://pypi.org/simple, https://us-python.pkg.dev/colab-wheels/public/simple/\n",
            "Requirement already satisfied: python-dateutil in /usr/local/lib/python3.7/dist-packages (2.8.2)\n",
            "Requirement already satisfied: six>=1.5 in /usr/local/lib/python3.7/dist-packages (from python-dateutil) (1.15.0)\n"
          ]
        }
      ]
    },
    {
      "cell_type": "markdown",
      "source": [
        "## tz"
      ],
      "metadata": {
        "id": "DgObVVZiXynU"
      }
    },
    {
      "cell_type": "code",
      "source": [
        "import dateutil\n",
        "my_tz = dateutil.tz.UTC\n",
        "dt_now = datetime.datetime.now(tz=my_tz)\n",
        "dt_utc_now = datetime.datetime.utcnow()\n",
        "print(dt_now)\n",
        "print(dt_now.tzinfo)\n",
        "print(dt_utc_now)\n",
        "print(dt_utc_now.tzinfo)"
      ],
      "metadata": {
        "colab": {
          "base_uri": "https://localhost:8080/"
        },
        "id": "ovtMEm1-YXUV",
        "outputId": "9d7b250a-71b6-45f6-f229-1aed9f48751c"
      },
      "execution_count": 19,
      "outputs": [
        {
          "output_type": "stream",
          "name": "stdout",
          "text": [
            "2022-11-13 00:34:31.907946+00:00\n",
            "tzutc()\n",
            "2022-11-13 00:34:31.907999\n",
            "None\n"
          ]
        }
      ]
    },
    {
      "cell_type": "markdown",
      "source": [
        "### gettz"
      ],
      "metadata": {
        "id": "c94G-ECEaWAF"
      }
    },
    {
      "cell_type": "code",
      "source": [
        "mytz = dateutil.tz.gettz('Africa/Algiers')\n",
        "print(tz)\n",
        "dtnow = datetime.datetime.now(tz=mytz)\n",
        "print(dtnow)"
      ],
      "metadata": {
        "colab": {
          "base_uri": "https://localhost:8080/"
        },
        "id": "Yizc-YoVaaZT",
        "outputId": "09f3f0ad-cadd-4285-feb1-f26e5f21bcba"
      },
      "execution_count": 27,
      "outputs": [
        {
          "output_type": "stream",
          "name": "stdout",
          "text": [
            "tzfile('/usr/share/zoneinfo/Canada/Mountain')\n",
            "2022-11-13 01:47:07.937155+01:00\n"
          ]
        }
      ]
    },
    {
      "cell_type": "markdown",
      "source": [
        "## zoneinfo"
      ],
      "metadata": {
        "id": "cm-AyeHabkF0"
      }
    },
    {
      "cell_type": "code",
      "source": [
        "zones = dateutil.zoneinfo.get_zonefile_instance().zones\n",
        "i = 0\n",
        "for z in zones:\n",
        "  i += 1\n",
        "  print(f'zone {i}:',z)"
      ],
      "metadata": {
        "colab": {
          "base_uri": "https://localhost:8080/"
        },
        "id": "NCWh5fUUbm4U",
        "outputId": "c9719c26-6b37-40b4-e0c0-c79a5b628e95"
      },
      "execution_count": 26,
      "outputs": [
        {
          "output_type": "stream",
          "name": "stdout",
          "text": [
            "zone 1: Arctic/Longyearbyen\n",
            "zone 2: Eire\n",
            "zone 3: Egypt\n",
            "zone 4: CST6CDT\n",
            "zone 5: MST7MDT\n",
            "zone 6: Africa/Abidjan\n",
            "zone 7: Africa/Accra\n",
            "zone 8: Africa/Addis_Ababa\n",
            "zone 9: Africa/Algiers\n",
            "zone 10: Africa/Bangui\n",
            "zone 11: Africa/Bissau\n",
            "zone 12: Africa/Blantyre\n",
            "zone 13: Africa/Casablanca\n",
            "zone 14: Africa/Ceuta\n",
            "zone 15: Africa/El_Aaiun\n",
            "zone 16: Africa/Johannesburg\n",
            "zone 17: Africa/Juba\n",
            "zone 18: Africa/Khartoum\n",
            "zone 19: Africa/Monrovia\n",
            "zone 20: Africa/Ndjamena\n",
            "zone 21: Africa/Sao_Tome\n",
            "zone 22: Africa/Tripoli\n",
            "zone 23: Africa/Tunis\n",
            "zone 24: Africa/Windhoek\n",
            "zone 25: Kwajalein\n",
            "zone 26: MST\n",
            "zone 27: NZ-CHAT\n",
            "zone 28: GMT-0\n",
            "zone 29: Canada/Atlantic\n",
            "zone 30: Canada/Central\n",
            "zone 31: Canada/Eastern\n",
            "zone 32: Canada/Mountain\n",
            "zone 33: Canada/Newfoundland\n",
            "zone 34: Canada/Pacific\n",
            "zone 35: Canada/Saskatchewan\n",
            "zone 36: Canada/Yukon\n",
            "zone 37: EST\n",
            "zone 38: Europe/Amsterdam\n",
            "zone 39: Europe/Andorra\n",
            "zone 40: Europe/Astrakhan\n",
            "zone 41: Europe/Athens\n",
            "zone 42: Europe/Belfast\n",
            "zone 43: Europe/Belgrade\n",
            "zone 44: Europe/Berlin\n",
            "zone 45: Europe/Bratislava\n",
            "zone 46: Europe/Brussels\n",
            "zone 47: Europe/Bucharest\n",
            "zone 48: Europe/Budapest\n",
            "zone 49: Europe/Busingen\n",
            "zone 50: Europe/Chisinau\n",
            "zone 51: Europe/Copenhagen\n",
            "zone 52: Europe/Gibraltar\n",
            "zone 53: Europe/Helsinki\n",
            "zone 54: Europe/Istanbul\n",
            "zone 55: Europe/Kaliningrad\n",
            "zone 56: Europe/Kiev\n",
            "zone 57: Europe/Kirov\n",
            "zone 58: Europe/Lisbon\n",
            "zone 59: Europe/Luxembourg\n",
            "zone 60: Europe/Madrid\n",
            "zone 61: Europe/Malta\n",
            "zone 62: Europe/Minsk\n",
            "zone 63: Europe/Monaco\n",
            "zone 64: Europe/Moscow\n",
            "zone 65: Europe/Nicosia\n",
            "zone 66: Europe/Paris\n",
            "zone 67: Europe/Riga\n",
            "zone 68: Europe/Rome\n",
            "zone 69: Europe/Samara\n",
            "zone 70: Europe/Saratov\n",
            "zone 71: Europe/Simferopol\n",
            "zone 72: Europe/Sofia\n",
            "zone 73: Europe/Stockholm\n",
            "zone 74: Europe/Tallinn\n",
            "zone 75: Europe/Tirane\n",
            "zone 76: Europe/Ulyanovsk\n",
            "zone 77: Europe/Uzhgorod\n",
            "zone 78: Europe/Vienna\n",
            "zone 79: Europe/Vilnius\n",
            "zone 80: Europe/Volgograd\n",
            "zone 81: Europe/Warsaw\n",
            "zone 82: Europe/Zaporozhye\n",
            "zone 83: Singapore\n",
            "zone 84: PRC\n",
            "zone 85: Jamaica\n",
            "zone 86: Factory\n",
            "zone 87: PST8PDT\n",
            "zone 88: NZ\n",
            "zone 89: Cuba\n",
            "zone 90: US/Alaska\n",
            "zone 91: US/Aleutian\n",
            "zone 92: US/Arizona\n",
            "zone 93: US/Central\n",
            "zone 94: US/East-Indiana\n",
            "zone 95: US/Eastern\n",
            "zone 96: US/Hawaii\n",
            "zone 97: US/Indiana-Starke\n",
            "zone 98: US/Michigan\n",
            "zone 99: US/Mountain\n",
            "zone 100: US/Pacific\n",
            "zone 101: US/Samoa\n",
            "zone 102: MET\n",
            "zone 103: America/Anguilla\n",
            "zone 104: America/Araguaina\n",
            "zone 105: America/Argentina/Buenos_Aires\n",
            "zone 106: America/Argentina/Catamarca\n",
            "zone 107: America/Argentina/Cordoba\n",
            "zone 108: America/Argentina/Jujuy\n",
            "zone 109: America/Argentina/La_Rioja\n",
            "zone 110: America/Argentina/Mendoza\n",
            "zone 111: America/Argentina/Rio_Gallegos\n",
            "zone 112: America/Argentina/Salta\n",
            "zone 113: America/Argentina/San_Juan\n",
            "zone 114: America/Argentina/San_Luis\n",
            "zone 115: America/Argentina/Tucuman\n",
            "zone 116: America/Argentina/Ushuaia\n",
            "zone 117: America/Aruba\n",
            "zone 118: America/Asuncion\n",
            "zone 119: America/Atikokan\n",
            "zone 120: America/Bahia\n",
            "zone 121: America/Bahia_Banderas\n",
            "zone 122: America/Barbados\n",
            "zone 123: America/Belem\n",
            "zone 124: America/Belize\n",
            "zone 125: America/Blanc-Sablon\n",
            "zone 126: America/Boa_Vista\n",
            "zone 127: America/Bogota\n",
            "zone 128: America/Boise\n",
            "zone 129: America/Cambridge_Bay\n",
            "zone 130: America/Campo_Grande\n",
            "zone 131: America/Cancun\n",
            "zone 132: America/Caracas\n",
            "zone 133: America/Cayenne\n",
            "zone 134: America/Cayman\n",
            "zone 135: America/Chihuahua\n",
            "zone 136: America/Costa_Rica\n",
            "zone 137: America/Creston\n",
            "zone 138: America/Cuiaba\n",
            "zone 139: America/Danmarkshavn\n",
            "zone 140: America/Dawson\n",
            "zone 141: America/Dawson_Creek\n",
            "zone 142: America/Eirunepe\n",
            "zone 143: America/El_Salvador\n",
            "zone 144: America/Ensenada\n",
            "zone 145: America/Fort_Nelson\n",
            "zone 146: America/Fortaleza\n",
            "zone 147: America/Glace_Bay\n",
            "zone 148: America/Godthab\n",
            "zone 149: America/Goose_Bay\n",
            "zone 150: America/Grand_Turk\n",
            "zone 151: America/Guatemala\n",
            "zone 152: America/Guayaquil\n",
            "zone 153: America/Guyana\n",
            "zone 154: America/Hermosillo\n",
            "zone 155: America/Indiana/Marengo\n",
            "zone 156: America/Indiana/Petersburg\n",
            "zone 157: America/Indiana/Tell_City\n",
            "zone 158: America/Indiana/Vevay\n",
            "zone 159: America/Indiana/Vincennes\n",
            "zone 160: America/Indiana/Winamac\n",
            "zone 161: America/Inuvik\n",
            "zone 162: America/Iqaluit\n",
            "zone 163: America/Juneau\n",
            "zone 164: America/Kentucky/Louisville\n",
            "zone 165: America/Kentucky/Monticello\n",
            "zone 166: America/La_Paz\n",
            "zone 167: America/Lima\n",
            "zone 168: America/Maceio\n",
            "zone 169: America/Managua\n",
            "zone 170: America/Manaus\n",
            "zone 171: America/Martinique\n",
            "zone 172: America/Matamoros\n",
            "zone 173: America/Mazatlan\n",
            "zone 174: America/Menominee\n",
            "zone 175: America/Merida\n",
            "zone 176: America/Metlakatla\n",
            "zone 177: America/Mexico_City\n",
            "zone 178: America/Miquelon\n",
            "zone 179: America/Moncton\n",
            "zone 180: America/Monterrey\n",
            "zone 181: America/Montevideo\n",
            "zone 182: America/Nassau\n",
            "zone 183: America/Nipigon\n",
            "zone 184: America/Nome\n",
            "zone 185: America/Noronha\n",
            "zone 186: America/North_Dakota/Beulah\n",
            "zone 187: America/North_Dakota/Center\n",
            "zone 188: America/North_Dakota/New_Salem\n",
            "zone 189: America/Ojinaga\n",
            "zone 190: America/Pangnirtung\n",
            "zone 191: America/Paramaribo\n",
            "zone 192: America/Port-au-Prince\n",
            "zone 193: America/Porto_Acre\n",
            "zone 194: America/Porto_Velho\n",
            "zone 195: America/Puerto_Rico\n",
            "zone 196: America/Punta_Arenas\n",
            "zone 197: America/Rainy_River\n",
            "zone 198: America/Rankin_Inlet\n",
            "zone 199: America/Recife\n",
            "zone 200: America/Resolute\n",
            "zone 201: America/Santarem\n",
            "zone 202: America/Santiago\n",
            "zone 203: America/Santo_Domingo\n",
            "zone 204: America/Sao_Paulo\n",
            "zone 205: America/Scoresbysund\n",
            "zone 206: America/Sitka\n",
            "zone 207: America/Swift_Current\n",
            "zone 208: America/Tegucigalpa\n",
            "zone 209: America/Thule\n",
            "zone 210: America/Thunder_Bay\n",
            "zone 211: America/Yakutat\n",
            "zone 212: America/Yellowknife\n",
            "zone 213: ROC\n",
            "zone 214: Hongkong\n",
            "zone 215: Japan\n",
            "zone 216: WET\n",
            "zone 217: Etc/GMT+1\n",
            "zone 218: Etc/GMT+10\n",
            "zone 219: Etc/GMT+11\n",
            "zone 220: Etc/GMT+12\n",
            "zone 221: Etc/GMT+2\n",
            "zone 222: Etc/GMT+3\n",
            "zone 223: Etc/GMT+4\n",
            "zone 224: Etc/GMT+5\n",
            "zone 225: Etc/GMT+6\n",
            "zone 226: Etc/GMT+7\n",
            "zone 227: Etc/GMT+8\n",
            "zone 228: Etc/GMT+9\n",
            "zone 229: Etc/GMT-1\n",
            "zone 230: Etc/GMT-10\n",
            "zone 231: Etc/GMT-11\n",
            "zone 232: Etc/GMT-12\n",
            "zone 233: Etc/GMT-13\n",
            "zone 234: Etc/GMT-14\n",
            "zone 235: Etc/GMT-2\n",
            "zone 236: Etc/GMT-3\n",
            "zone 237: Etc/GMT-4\n",
            "zone 238: Etc/GMT-5\n",
            "zone 239: Etc/GMT-6\n",
            "zone 240: Etc/GMT-7\n",
            "zone 241: Etc/GMT-8\n",
            "zone 242: Etc/GMT-9\n",
            "zone 243: Etc/UCT\n",
            "zone 244: Israel\n",
            "zone 245: Chile/EasterIsland\n",
            "zone 246: ROK\n",
            "zone 247: Indian/Chagos\n",
            "zone 248: Indian/Christmas\n",
            "zone 249: Indian/Cocos\n",
            "zone 250: Indian/Kerguelen\n",
            "zone 251: Indian/Mahe\n",
            "zone 252: Indian/Maldives\n",
            "zone 253: Indian/Mauritius\n",
            "zone 254: Indian/Reunion\n",
            "zone 255: EET\n",
            "zone 256: CET\n",
            "zone 257: Iceland\n",
            "zone 258: Atlantic/Azores\n",
            "zone 259: Atlantic/Bermuda\n",
            "zone 260: Atlantic/Canary\n",
            "zone 261: Atlantic/Cape_Verde\n",
            "zone 262: Atlantic/Faeroe\n",
            "zone 263: Atlantic/Madeira\n",
            "zone 264: Atlantic/South_Georgia\n",
            "zone 265: Atlantic/Stanley\n",
            "zone 266: EST5EDT\n",
            "zone 267: HST\n",
            "zone 268: Australia/ACT\n",
            "zone 269: Australia/Adelaide\n",
            "zone 270: Australia/Brisbane\n",
            "zone 271: Australia/Broken_Hill\n",
            "zone 272: Australia/Currie\n",
            "zone 273: Australia/Darwin\n",
            "zone 274: Australia/Eucla\n",
            "zone 275: Australia/LHI\n",
            "zone 276: Australia/Lindeman\n",
            "zone 277: Australia/Melbourne\n",
            "zone 278: Australia/Perth\n",
            "zone 279: Pacific/Apia\n",
            "zone 280: Pacific/Bougainville\n",
            "zone 281: Pacific/Chuuk\n",
            "zone 282: Pacific/Efate\n",
            "zone 283: Pacific/Enderbury\n",
            "zone 284: Pacific/Fakaofo\n",
            "zone 285: Pacific/Fiji\n",
            "zone 286: Pacific/Funafuti\n",
            "zone 287: Pacific/Galapagos\n",
            "zone 288: Pacific/Gambier\n",
            "zone 289: Pacific/Guadalcanal\n",
            "zone 290: Pacific/Guam\n",
            "zone 291: Pacific/Kiritimati\n",
            "zone 292: Pacific/Kosrae\n",
            "zone 293: Pacific/Majuro\n",
            "zone 294: Pacific/Marquesas\n",
            "zone 295: Pacific/Nauru\n",
            "zone 296: Pacific/Niue\n",
            "zone 297: Pacific/Norfolk\n",
            "zone 298: Pacific/Noumea\n",
            "zone 299: Pacific/Palau\n",
            "zone 300: Pacific/Pitcairn\n",
            "zone 301: Pacific/Pohnpei\n",
            "zone 302: Pacific/Port_Moresby\n",
            "zone 303: Pacific/Rarotonga\n",
            "zone 304: Pacific/Tahiti\n",
            "zone 305: Pacific/Tarawa\n",
            "zone 306: Pacific/Tongatapu\n",
            "zone 307: Pacific/Wake\n",
            "zone 308: Pacific/Wallis\n",
            "zone 309: Antarctica/Casey\n",
            "zone 310: Antarctica/Davis\n",
            "zone 311: Antarctica/DumontDUrville\n",
            "zone 312: Antarctica/Macquarie\n",
            "zone 313: Antarctica/Mawson\n",
            "zone 314: Antarctica/Palmer\n",
            "zone 315: Antarctica/Rothera\n",
            "zone 316: Antarctica/Syowa\n",
            "zone 317: Antarctica/Troll\n",
            "zone 318: Antarctica/Vostok\n",
            "zone 319: Asia/Aden\n",
            "zone 320: Asia/Almaty\n",
            "zone 321: Asia/Amman\n",
            "zone 322: Asia/Anadyr\n",
            "zone 323: Asia/Aqtau\n",
            "zone 324: Asia/Aqtobe\n",
            "zone 325: Asia/Ashgabat\n",
            "zone 326: Asia/Atyrau\n",
            "zone 327: Asia/Baghdad\n",
            "zone 328: Asia/Bahrain\n",
            "zone 329: Asia/Baku\n",
            "zone 330: Asia/Bangkok\n",
            "zone 331: Asia/Barnaul\n",
            "zone 332: Asia/Beirut\n",
            "zone 333: Asia/Bishkek\n",
            "zone 334: Asia/Brunei\n",
            "zone 335: Asia/Calcutta\n",
            "zone 336: Asia/Chita\n",
            "zone 337: Asia/Choibalsan\n",
            "zone 338: Asia/Colombo\n",
            "zone 339: Asia/Dacca\n",
            "zone 340: Asia/Damascus\n",
            "zone 341: Asia/Dili\n",
            "zone 342: Asia/Dubai\n",
            "zone 343: Asia/Dushanbe\n",
            "zone 344: Asia/Famagusta\n",
            "zone 345: Asia/Gaza\n",
            "zone 346: Asia/Hanoi\n",
            "zone 347: Asia/Hebron\n",
            "zone 348: Asia/Ho_Chi_Minh\n",
            "zone 349: Asia/Hovd\n",
            "zone 350: Asia/Irkutsk\n",
            "zone 351: Asia/Jakarta\n",
            "zone 352: Asia/Jayapura\n",
            "zone 353: Asia/Kabul\n",
            "zone 354: Asia/Kamchatka\n",
            "zone 355: Asia/Karachi\n",
            "zone 356: Asia/Kashgar\n",
            "zone 357: Asia/Kathmandu\n",
            "zone 358: Asia/Khandyga\n",
            "zone 359: Asia/Krasnoyarsk\n",
            "zone 360: Asia/Kuala_Lumpur\n",
            "zone 361: Asia/Kuching\n",
            "zone 362: Asia/Macao\n",
            "zone 363: Asia/Magadan\n",
            "zone 364: Asia/Makassar\n",
            "zone 365: Asia/Manila\n",
            "zone 366: Asia/Novokuznetsk\n",
            "zone 367: Asia/Novosibirsk\n",
            "zone 368: Asia/Omsk\n",
            "zone 369: Asia/Oral\n",
            "zone 370: Asia/Pontianak\n",
            "zone 371: Asia/Pyongyang\n",
            "zone 372: Asia/Qostanay\n",
            "zone 373: Asia/Qyzylorda\n",
            "zone 374: Asia/Rangoon\n",
            "zone 375: Asia/Sakhalin\n",
            "zone 376: Asia/Samarkand\n",
            "zone 377: Asia/Srednekolymsk\n",
            "zone 378: Asia/Tashkent\n",
            "zone 379: Asia/Tbilisi\n",
            "zone 380: Asia/Tehran\n",
            "zone 381: Asia/Thimbu\n",
            "zone 382: Asia/Tomsk\n",
            "zone 383: Asia/Ulaanbaatar\n",
            "zone 384: Asia/Ust-Nera\n",
            "zone 385: Asia/Vladivostok\n",
            "zone 386: Asia/Yakutsk\n",
            "zone 387: Asia/Yekaterinburg\n",
            "zone 388: Asia/Yerevan\n",
            "zone 389: Africa/Asmara\n",
            "zone 390: Africa/Asmera\n",
            "zone 391: Africa/Bamako\n",
            "zone 392: Africa/Banjul\n",
            "zone 393: Africa/Brazzaville\n",
            "zone 394: Africa/Bujumbura\n",
            "zone 395: Africa/Cairo\n",
            "zone 396: Africa/Conakry\n",
            "zone 397: Africa/Dakar\n",
            "zone 398: Africa/Dar_es_Salaam\n",
            "zone 399: Africa/Djibouti\n",
            "zone 400: Africa/Douala\n",
            "zone 401: Africa/Freetown\n",
            "zone 402: Africa/Gaborone\n",
            "zone 403: Africa/Harare\n",
            "zone 404: Africa/Kampala\n",
            "zone 405: Africa/Kigali\n",
            "zone 406: Africa/Kinshasa\n",
            "zone 407: Africa/Lagos\n",
            "zone 408: Africa/Libreville\n",
            "zone 409: Africa/Lome\n",
            "zone 410: Africa/Luanda\n",
            "zone 411: Africa/Lubumbashi\n",
            "zone 412: Africa/Lusaka\n",
            "zone 413: Africa/Malabo\n",
            "zone 414: Africa/Maputo\n",
            "zone 415: Africa/Maseru\n",
            "zone 416: Africa/Mbabane\n",
            "zone 417: Africa/Mogadishu\n",
            "zone 418: Africa/Nairobi\n",
            "zone 419: Africa/Niamey\n",
            "zone 420: Africa/Nouakchott\n",
            "zone 421: Africa/Ouagadougou\n",
            "zone 422: Africa/Porto-Novo\n",
            "zone 423: Africa/Timbuktu\n",
            "zone 424: Libya\n",
            "zone 425: Europe/Dublin\n",
            "zone 426: Europe/Guernsey\n",
            "zone 427: Europe/Isle_of_Man\n",
            "zone 428: Europe/Jersey\n",
            "zone 429: Europe/Ljubljana\n",
            "zone 430: Europe/London\n",
            "zone 431: Europe/Mariehamn\n",
            "zone 432: Europe/Oslo\n",
            "zone 433: Europe/Podgorica\n",
            "zone 434: Europe/Prague\n",
            "zone 435: Europe/San_Marino\n",
            "zone 436: Europe/Sarajevo\n",
            "zone 437: Europe/Skopje\n",
            "zone 438: Europe/Tiraspol\n",
            "zone 439: Europe/Vaduz\n",
            "zone 440: Europe/Vatican\n",
            "zone 441: Europe/Zagreb\n",
            "zone 442: Europe/Zurich\n",
            "zone 443: Greenwich\n",
            "zone 444: Portugal\n",
            "zone 445: W-SU\n",
            "zone 446: America/Adak\n",
            "zone 447: America/Anchorage\n",
            "zone 448: America/Antigua\n",
            "zone 449: America/Argentina/ComodRivadavia\n",
            "zone 450: America/Atka\n",
            "zone 451: America/Buenos_Aires\n",
            "zone 452: America/Catamarca\n",
            "zone 453: America/Chicago\n",
            "zone 454: America/Coral_Harbour\n",
            "zone 455: America/Cordoba\n",
            "zone 456: America/Curacao\n",
            "zone 457: America/Denver\n",
            "zone 458: America/Detroit\n",
            "zone 459: America/Dominica\n",
            "zone 460: America/Edmonton\n",
            "zone 461: America/Fort_Wayne\n",
            "zone 462: America/Grenada\n",
            "zone 463: America/Guadeloupe\n",
            "zone 464: America/Halifax\n",
            "zone 465: America/Havana\n",
            "zone 466: America/Indiana/Indianapolis\n",
            "zone 467: America/Indiana/Knox\n",
            "zone 468: America/Indianapolis\n",
            "zone 469: America/Jamaica\n",
            "zone 470: America/Jujuy\n",
            "zone 471: America/Knox_IN\n",
            "zone 472: America/Kralendijk\n",
            "zone 473: America/Los_Angeles\n",
            "zone 474: America/Louisville\n",
            "zone 475: America/Lower_Princes\n",
            "zone 476: America/Marigot\n",
            "zone 477: America/Mendoza\n",
            "zone 478: America/Montreal\n",
            "zone 479: America/Montserrat\n",
            "zone 480: America/New_York\n",
            "zone 481: America/Nuuk\n",
            "zone 482: America/Panama\n",
            "zone 483: America/Phoenix\n",
            "zone 484: America/Port_of_Spain\n",
            "zone 485: America/Regina\n",
            "zone 486: America/Rio_Branco\n",
            "zone 487: America/Rosario\n",
            "zone 488: America/Santa_Isabel\n",
            "zone 489: America/Shiprock\n",
            "zone 490: America/St_Barthelemy\n",
            "zone 491: America/St_Johns\n",
            "zone 492: America/St_Kitts\n",
            "zone 493: America/St_Lucia\n",
            "zone 494: America/St_Thomas\n",
            "zone 495: America/St_Vincent\n",
            "zone 496: America/Tijuana\n",
            "zone 497: America/Toronto\n",
            "zone 498: America/Tortola\n",
            "zone 499: America/Vancouver\n",
            "zone 500: America/Virgin\n",
            "zone 501: America/Whitehorse\n",
            "zone 502: America/Winnipeg\n",
            "zone 503: GB\n",
            "zone 504: GMT0\n",
            "zone 505: Mexico/BajaNorte\n",
            "zone 506: Mexico/BajaSur\n",
            "zone 507: Mexico/General\n",
            "zone 508: Etc/GMT\n",
            "zone 509: Etc/GMT+0\n",
            "zone 510: Etc/GMT-0\n",
            "zone 511: Etc/GMT0\n",
            "zone 512: Etc/Greenwich\n",
            "zone 513: Etc/UTC\n",
            "zone 514: Etc/Universal\n",
            "zone 515: Etc/Zulu\n",
            "zone 516: Turkey\n",
            "zone 517: Navajo\n",
            "zone 518: Universal\n",
            "zone 519: Zulu\n",
            "zone 520: Chile/Continental\n",
            "zone 521: UCT\n",
            "zone 522: Indian/Antananarivo\n",
            "zone 523: Indian/Comoro\n",
            "zone 524: Indian/Mayotte\n",
            "zone 525: GB-Eire\n",
            "zone 526: Atlantic/Faroe\n",
            "zone 527: Atlantic/Jan_Mayen\n",
            "zone 528: Atlantic/Reykjavik\n",
            "zone 529: Atlantic/St_Helena\n",
            "zone 530: Brazil/Acre\n",
            "zone 531: Brazil/DeNoronha\n",
            "zone 532: Brazil/East\n",
            "zone 533: Brazil/West\n",
            "zone 534: UTC\n",
            "zone 535: Australia/Canberra\n",
            "zone 536: Australia/Hobart\n",
            "zone 537: Australia/Lord_Howe\n",
            "zone 538: Australia/NSW\n",
            "zone 539: Australia/North\n",
            "zone 540: Australia/Queensland\n",
            "zone 541: Australia/South\n",
            "zone 542: Australia/Sydney\n",
            "zone 543: Australia/Tasmania\n",
            "zone 544: Australia/Victoria\n",
            "zone 545: Australia/West\n",
            "zone 546: Australia/Yancowinna\n",
            "zone 547: GMT\n",
            "zone 548: Pacific/Auckland\n",
            "zone 549: Pacific/Chatham\n",
            "zone 550: Pacific/Easter\n",
            "zone 551: Pacific/Honolulu\n",
            "zone 552: Pacific/Johnston\n",
            "zone 553: Pacific/Kwajalein\n",
            "zone 554: Pacific/Midway\n",
            "zone 555: Pacific/Pago_Pago\n",
            "zone 556: Pacific/Ponape\n",
            "zone 557: Pacific/Saipan\n",
            "zone 558: Pacific/Samoa\n",
            "zone 559: Pacific/Truk\n",
            "zone 560: Pacific/Yap\n",
            "zone 561: GMT+0\n",
            "zone 562: Antarctica/McMurdo\n",
            "zone 563: Antarctica/South_Pole\n",
            "zone 564: Asia/Ashkhabad\n",
            "zone 565: Asia/Chongqing\n",
            "zone 566: Asia/Chungking\n",
            "zone 567: Asia/Dhaka\n",
            "zone 568: Asia/Harbin\n",
            "zone 569: Asia/Hong_Kong\n",
            "zone 570: Asia/Istanbul\n",
            "zone 571: Asia/Jerusalem\n",
            "zone 572: Asia/Katmandu\n",
            "zone 573: Asia/Kolkata\n",
            "zone 574: Asia/Kuwait\n",
            "zone 575: Asia/Macau\n",
            "zone 576: Asia/Muscat\n",
            "zone 577: Asia/Nicosia\n",
            "zone 578: Asia/Phnom_Penh\n",
            "zone 579: Asia/Qatar\n",
            "zone 580: Asia/Riyadh\n",
            "zone 581: Asia/Saigon\n",
            "zone 582: Asia/Seoul\n",
            "zone 583: Asia/Shanghai\n",
            "zone 584: Asia/Singapore\n",
            "zone 585: Asia/Taipei\n",
            "zone 586: Asia/Tel_Aviv\n",
            "zone 587: Asia/Thimphu\n",
            "zone 588: Asia/Tokyo\n",
            "zone 589: Asia/Ujung_Pandang\n",
            "zone 590: Asia/Ulan_Bator\n",
            "zone 591: Asia/Urumqi\n",
            "zone 592: Asia/Vientiane\n",
            "zone 593: Asia/Yangon\n",
            "zone 594: Poland\n",
            "zone 595: Iran\n"
          ]
        }
      ]
    }
  ]
}