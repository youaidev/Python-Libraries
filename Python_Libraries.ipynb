{
  "nbformat": 4,
  "nbformat_minor": 0,
  "metadata": {
    "colab": {
      "provenance": [],
      "collapsed_sections": [
        "y7GrthaORI_K",
        "eXwPe6KlnwTz",
        "VXpPV65cn2S8"
      ],
      "authorship_tag": "ABX9TyNqxaNuVzbTC3b0Iq0aYS6q",
      "include_colab_link": true
    },
    "kernelspec": {
      "name": "python3",
      "display_name": "Python 3"
    },
    "language_info": {
      "name": "python"
    }
  },
  "cells": [
    {
      "cell_type": "markdown",
      "metadata": {
        "id": "view-in-github",
        "colab_type": "text"
      },
      "source": [
        "<a href=\"https://colab.research.google.com/github/youaidev/Python-Libraries/blob/main/Python_Libraries.ipynb\" target=\"_parent\"><img src=\"https://colab.research.google.com/assets/colab-badge.svg\" alt=\"Open In Colab\"/></a>"
      ]
    },
    {
      "cell_type": "markdown",
      "source": [
        "# **Intro**"
      ],
      "metadata": {
        "id": "y7GrthaORI_K"
      }
    },
    {
      "cell_type": "code",
      "source": [
        "import numpy as np\n",
        "np.__version__"
      ],
      "metadata": {
        "colab": {
          "base_uri": "https://localhost:8080/",
          "height": 35
        },
        "id": "sJDtlI60RIja",
        "outputId": "ed1fb3e1-8aa4-483a-855a-e5aad9e43e43"
      },
      "execution_count": null,
      "outputs": [
        {
          "output_type": "execute_result",
          "data": {
            "text/plain": [
              "'1.21.6'"
            ],
            "application/vnd.google.colaboratory.intrinsic+json": {
              "type": "string"
            }
          },
          "metadata": {},
          "execution_count": 4
        }
      ]
    },
    {
      "cell_type": "code",
      "source": [
        "np.random.rand?"
      ],
      "metadata": {
        "id": "R55_aCUPSv7Y"
      },
      "execution_count": null,
      "outputs": []
    },
    {
      "cell_type": "code",
      "source": [
        "!pip install imageai"
      ],
      "metadata": {
        "colab": {
          "base_uri": "https://localhost:8080/"
        },
        "id": "8rGVo1E5S9Cv",
        "outputId": "2bbfdeb5-c9ae-4298-9134-cce6938a638f"
      },
      "execution_count": null,
      "outputs": [
        {
          "output_type": "stream",
          "name": "stdout",
          "text": [
            "Looking in indexes: https://pypi.org/simple, https://us-python.pkg.dev/colab-wheels/public/simple/\n",
            "Requirement already satisfied: imageai in /usr/local/lib/python3.7/dist-packages (2.1.6)\n",
            "Requirement already satisfied: keras-resnet==0.2.0 in /usr/local/lib/python3.7/dist-packages (from imageai) (0.2.0)\n",
            "Requirement already satisfied: numpy==1.19.3 in /usr/local/lib/python3.7/dist-packages (from imageai) (1.19.3)\n",
            "Requirement already satisfied: scipy==1.4.1 in /usr/local/lib/python3.7/dist-packages (from imageai) (1.4.1)\n",
            "Requirement already satisfied: matplotlib==3.3.2 in /usr/local/lib/python3.7/dist-packages (from imageai) (3.3.2)\n",
            "Requirement already satisfied: keras==2.4.3 in /usr/local/lib/python3.7/dist-packages (from imageai) (2.4.3)\n",
            "Requirement already satisfied: opencv-python in /usr/local/lib/python3.7/dist-packages (from imageai) (4.6.0.66)\n",
            "Requirement already satisfied: pillow==7.0.0 in /usr/local/lib/python3.7/dist-packages (from imageai) (7.0.0)\n",
            "Requirement already satisfied: h5py==2.10.0 in /usr/local/lib/python3.7/dist-packages (from imageai) (2.10.0)\n",
            "Requirement already satisfied: six in /usr/local/lib/python3.7/dist-packages (from h5py==2.10.0->imageai) (1.15.0)\n",
            "Requirement already satisfied: pyyaml in /usr/local/lib/python3.7/dist-packages (from keras==2.4.3->imageai) (6.0)\n",
            "Requirement already satisfied: certifi>=2020.06.20 in /usr/local/lib/python3.7/dist-packages (from matplotlib==3.3.2->imageai) (2022.9.24)\n",
            "Requirement already satisfied: pyparsing!=2.0.4,!=2.1.2,!=2.1.6,>=2.0.3 in /usr/local/lib/python3.7/dist-packages (from matplotlib==3.3.2->imageai) (3.0.9)\n",
            "Requirement already satisfied: python-dateutil>=2.1 in /usr/local/lib/python3.7/dist-packages (from matplotlib==3.3.2->imageai) (2.8.2)\n",
            "Requirement already satisfied: cycler>=0.10 in /usr/local/lib/python3.7/dist-packages (from matplotlib==3.3.2->imageai) (0.11.0)\n",
            "Requirement already satisfied: kiwisolver>=1.0.1 in /usr/local/lib/python3.7/dist-packages (from matplotlib==3.3.2->imageai) (1.4.4)\n",
            "Requirement already satisfied: typing-extensions in /usr/local/lib/python3.7/dist-packages (from kiwisolver>=1.0.1->matplotlib==3.3.2->imageai) (4.1.1)\n"
          ]
        }
      ]
    },
    {
      "cell_type": "markdown",
      "source": [
        "# **Markdown**\n"
      ],
      "metadata": {
        "id": "eaU8DAukUojW"
      }
    },
    {
      "cell_type": "markdown",
      "source": [
        ">#### **font**\n",
        ">>**bold**  \n",
        ">>__bold__  \n",
        ">>`python`  \n",
        ">>```python```  \n",
        ">#### **orderlist**\n",
        ">>1. one\n",
        ">>2. two\n",
        ">#### **unorderlist**\n",
        ">>* one\n",
        ">>* two\n",
        ">#### **link**\n",
        ">>[google](google.com)\n",
        ">#### **math** \n",
        ">>$ y = x^2 $  \n",
        ">>$ \\frac{1}{n} $  \n",
        ">>$ \\sum_{i=1}^{n}x_{i} $  \n",
        "$$ \n",
        "\\begin{pmatrix}\\\\\n",
        "a_{1, 1} & a_{1, 2}\\\\\n",
        "a_{2, 1} & a_{2, 2}\\\\\n",
        "\\end{pmatrix}\n",
        "$$\n",
        ">#### **table**\n",
        ">>col1 | col2 | col3\n",
        ">>--- | --- | --- |\n",
        ">>val1 | val2 | val3\n",
        "\n"
      ],
      "metadata": {
        "id": "8AdoyBI_ruM0"
      }
    },
    {
      "cell_type": "markdown",
      "source": [
        "# **sys**\n",
        "🪕 [Sys - System Library | المكتبة البايثونيَة - مكتبة نظام البايثون](https://www.youtube.com/watch?v=5DqzgYLbeI0)  \n",
        "🪕 [Python Tutorial 29 - Taking User Inputs with sys.stdin.readline()](https://www.youtube.com/watch?v=sKxVzoOpvsY)"
      ],
      "metadata": {
        "id": "Nry0gd4oSJnP"
      }
    },
    {
      "cell_type": "markdown",
      "source": [
        "## version"
      ],
      "metadata": {
        "id": "eXwPe6KlnwTz"
      }
    },
    {
      "cell_type": "code",
      "source": [
        "import sys\n",
        "print(sys.version)\n",
        "print(sys.version.split(' '))\n",
        "print(sys.version.split(' ')[0])"
      ],
      "metadata": {
        "colab": {
          "base_uri": "https://localhost:8080/"
        },
        "id": "vj5pvKISSSwf",
        "outputId": "d52fdabd-7555-4bfc-ae2c-c83adba266d8"
      },
      "execution_count": null,
      "outputs": [
        {
          "output_type": "stream",
          "name": "stdout",
          "text": [
            "3.7.15 (default, Oct 12 2022, 19:14:55) \n",
            "[GCC 7.5.0]\n"
          ]
        }
      ]
    },
    {
      "cell_type": "markdown",
      "source": [
        "## stdout"
      ],
      "metadata": {
        "id": "VXpPV65cn2S8"
      }
    },
    {
      "cell_type": "code",
      "source": [
        "sys.stdout.write('hello\\n')\n",
        "print('hello')"
      ],
      "metadata": {
        "colab": {
          "base_uri": "https://localhost:8080/"
        },
        "id": "14pY8OtlkUW3",
        "outputId": "6313e801-346d-45df-f6bb-74153d4b172d"
      },
      "execution_count": 14,
      "outputs": [
        {
          "output_type": "stream",
          "name": "stdout",
          "text": [
            "hello\n",
            "hello\n"
          ]
        }
      ]
    },
    {
      "cell_type": "markdown",
      "source": [
        "## stdin"
      ],
      "metadata": {
        "id": "9HR2Ix0Tn5Hd"
      }
    },
    {
      "cell_type": "code",
      "source": [
        "print(sys.stdin.readline(1))"
      ],
      "metadata": {
        "colab": {
          "base_uri": "https://localhost:8080/"
        },
        "id": "HeM9BXyQkyhl",
        "outputId": "623a0e07-1d2d-40e3-f50a-7fbacef583b3"
      },
      "execution_count": 24,
      "outputs": [
        {
          "output_type": "stream",
          "name": "stdout",
          "text": [
            "\n"
          ]
        }
      ]
    },
    {
      "cell_type": "markdown",
      "source": [
        "#**datetime**\n",
        ">**Intro**\n",
        ">More: https://docs.python.org/3.8/library/datetime.html  \n",
        ">**Docs:** ``` help(datetime) ```\n",
        ">**Help on module datetime:**\n",
        ">- **NAME**  \n",
        ">    datetime - Fast implementation of the datetime type. \n",
        ">- **MODULE REFERENCE**  \n",
        ">    https://docs.python.org/3.8/library/datetime   \n",
        ">    The following documentation is automatically generated from the Python\n",
        ">    source files.  It may be incomplete, incorrect or include features that\n",
        ">    are considered implementation detail and may vary between Python\n",
        ">    implementations.  When in doubt, consult the module reference at the\n",
        ">    location listed above.\n",
        ">- **CLASSES**  \n",
        ">```\n",
        ">    builtins.object  \n",
        ">        date  \n",
        ">            datetime  \n",
        ">        time  \n",
        ">        timedelta  \n",
        ">        tzinfo  \n",
        ">            timezonee\n",
        ">```\n",
        "\n",
        " "
      ],
      "metadata": {
        "id": "TFKYwwjMUIFN"
      }
    },
    {
      "cell_type": "markdown",
      "source": [],
      "metadata": {
        "id": "rCg0D7qzVoRN"
      }
    }
  ]
}