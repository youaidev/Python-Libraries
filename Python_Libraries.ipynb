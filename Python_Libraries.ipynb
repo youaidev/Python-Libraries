{
  "nbformat": 4,
  "nbformat_minor": 0,
  "metadata": {
    "colab": {
      "provenance": [],
      "collapsed_sections": [],
      "authorship_tag": "ABX9TyOnA95SMxd6I760N/xQClsr",
      "include_colab_link": true
    },
    "kernelspec": {
      "name": "python3",
      "display_name": "Python 3"
    },
    "language_info": {
      "name": "python"
    }
  },
  "cells": [
    {
      "cell_type": "markdown",
      "metadata": {
        "id": "view-in-github",
        "colab_type": "text"
      },
      "source": [
        "<a href=\"https://colab.research.google.com/github/youaidev/Python-Libraries/blob/main/Python_Libraries.ipynb\" target=\"_parent\"><img src=\"https://colab.research.google.com/assets/colab-badge.svg\" alt=\"Open In Colab\"/></a>"
      ]
    },
    {
      "cell_type": "markdown",
      "source": [
        "# **Intro**"
      ],
      "metadata": {
        "id": "y7GrthaORI_K"
      }
    },
    {
      "cell_type": "code",
      "source": [
        "# import lib\n",
        "import numpy as np\n",
        "# version\n",
        "np.__version__"
      ],
      "metadata": {
        "colab": {
          "base_uri": "https://localhost:8080/",
          "height": 36
        },
        "id": "sJDtlI60RIja",
        "outputId": "165ca1e4-b376-4da3-c09d-422ad21444a8"
      },
      "execution_count": 41,
      "outputs": [
        {
          "output_type": "execute_result",
          "data": {
            "text/plain": [
              "'1.21.6'"
            ],
            "application/vnd.google.colaboratory.intrinsic+json": {
              "type": "string"
            }
          },
          "metadata": {},
          "execution_count": 41
        }
      ]
    },
    {
      "cell_type": "code",
      "source": [
        "# info \n",
        "np.random.rand?"
      ],
      "metadata": {
        "id": "R55_aCUPSv7Y"
      },
      "execution_count": 2,
      "outputs": []
    },
    {
      "cell_type": "code",
      "source": [
        "# to install packages : \n",
        "\"\"\" !pip install <lib> \"\"\"\n"
      ],
      "metadata": {
        "colab": {
          "base_uri": "https://localhost:8080/",
          "height": 36
        },
        "id": "8rGVo1E5S9Cv",
        "outputId": "00cdf143-0374-436a-a1c5-22326b8ccca5"
      },
      "execution_count": 44,
      "outputs": [
        {
          "output_type": "execute_result",
          "data": {
            "text/plain": [
              "' !pip install <lib> '"
            ],
            "application/vnd.google.colaboratory.intrinsic+json": {
              "type": "string"
            }
          },
          "metadata": {},
          "execution_count": 44
        }
      ]
    },
    {
      "cell_type": "markdown",
      "source": [
        "# **Markdown**\n"
      ],
      "metadata": {
        "id": "eaU8DAukUojW"
      }
    },
    {
      "cell_type": "markdown",
      "source": [
        ">#### **font**\n",
        ">>**bold**  \n",
        ">>__bold__  \n",
        ">>`python`  \n",
        ">>```python```  \n",
        ">#### **orderlist**\n",
        ">>1. one\n",
        ">>2. two\n",
        ">#### **unorderlist**\n",
        ">>* one\n",
        ">>* two\n",
        ">#### **link**\n",
        ">>[google](google.com)\n",
        ">#### **math** \n",
        ">>$ y = x^2 $  \n",
        ">>$ \\frac{1}{n} $  \n",
        ">>$ \\sum_{i=1}^{n}x_{i} $  \n",
        "$$ \n",
        "\\begin{pmatrix}\\\\\n",
        "a_{1, 1} & a_{1, 2}\\\\\n",
        "a_{2, 1} & a_{2, 2}\\\\\n",
        "\\end{pmatrix}\n",
        "$$\n",
        ">#### **table**\n",
        ">>col1 | col2 | col3\n",
        ">>--- | --- | --- |\n",
        ">>val1 | val2 | val3\n",
        "\n"
      ],
      "metadata": {
        "id": "8AdoyBI_ruM0"
      }
    },
    {
      "cell_type": "markdown",
      "source": [
        "# **sys**\n",
        "🪕 [Sys - System Library | المكتبة البايثونيَة - مكتبة نظام البايثون](https://www.youtube.com/watch?v=5DqzgYLbeI0)  \n"
      ],
      "metadata": {
        "id": "Nry0gd4oSJnP"
      }
    },
    {
      "cell_type": "markdown",
      "source": [
        "## version"
      ],
      "metadata": {
        "id": "eXwPe6KlnwTz"
      }
    },
    {
      "cell_type": "code",
      "source": [
        "import sys\n",
        "print(sys.version)\n",
        "print(sys.version.split(' '))\n",
        "print(sys.version.split(' ')[0])"
      ],
      "metadata": {
        "colab": {
          "base_uri": "https://localhost:8080/"
        },
        "id": "vj5pvKISSSwf",
        "outputId": "cbc93312-93af-4004-8f03-21e4f6162e43"
      },
      "execution_count": 4,
      "outputs": [
        {
          "output_type": "stream",
          "name": "stdout",
          "text": [
            "3.7.15 (default, Oct 12 2022, 19:14:55) \n",
            "[GCC 7.5.0]\n",
            "['3.7.15', '(default,', 'Oct', '12', '2022,', '19:14:55)', '\\n[GCC', '7.5.0]']\n",
            "3.7.15\n"
          ]
        }
      ]
    },
    {
      "cell_type": "markdown",
      "source": [
        "## stdout"
      ],
      "metadata": {
        "id": "VXpPV65cn2S8"
      }
    },
    {
      "cell_type": "code",
      "source": [
        "sys.stdout.write('hello\\n')\n",
        "print('hello')"
      ],
      "metadata": {
        "colab": {
          "base_uri": "https://localhost:8080/"
        },
        "id": "14pY8OtlkUW3",
        "outputId": "03ce4413-ad46-494a-9d67-a46b099f5027"
      },
      "execution_count": 5,
      "outputs": [
        {
          "output_type": "stream",
          "name": "stdout",
          "text": [
            "hello\n",
            "hello\n"
          ]
        }
      ]
    },
    {
      "cell_type": "markdown",
      "source": [
        "## maxsize"
      ],
      "metadata": {
        "id": "GDOjxohw87M9"
      }
    },
    {
      "cell_type": "code",
      "source": [
        "sys.maxsize"
      ],
      "metadata": {
        "colab": {
          "base_uri": "https://localhost:8080/"
        },
        "id": "GNw35v7U8_PM",
        "outputId": "fdb99d68-3dab-4980-c3e4-abf1d9be1e31"
      },
      "execution_count": 6,
      "outputs": [
        {
          "output_type": "execute_result",
          "data": {
            "text/plain": [
              "9223372036854775807"
            ]
          },
          "metadata": {},
          "execution_count": 6
        }
      ]
    },
    {
      "cell_type": "markdown",
      "source": [
        "## path"
      ],
      "metadata": {
        "id": "Hpsdvjpm-On5"
      }
    },
    {
      "cell_type": "code",
      "source": [
        "sys.path"
      ],
      "metadata": {
        "colab": {
          "base_uri": "https://localhost:8080/"
        },
        "id": "pHttmJzC-Qe5",
        "outputId": "c1babff2-3146-4f4a-cebe-b2300fb169a2"
      },
      "execution_count": 7,
      "outputs": [
        {
          "output_type": "execute_result",
          "data": {
            "text/plain": [
              "['/content',\n",
              " '/env/python',\n",
              " '/usr/lib/python37.zip',\n",
              " '/usr/lib/python3.7',\n",
              " '/usr/lib/python3.7/lib-dynload',\n",
              " '',\n",
              " '/usr/local/lib/python3.7/dist-packages',\n",
              " '/usr/lib/python3/dist-packages',\n",
              " '/usr/local/lib/python3.7/dist-packages/IPython/extensions',\n",
              " '/root/.ipython']"
            ]
          },
          "metadata": {},
          "execution_count": 7
        }
      ]
    },
    {
      "cell_type": "markdown",
      "source": [
        "## exit"
      ],
      "metadata": {
        "id": "kTjbStOg-8Zz"
      }
    },
    {
      "cell_type": "code",
      "source": [
        "sys.exit()"
      ],
      "metadata": {
        "colab": {
          "base_uri": "https://localhost:8080/",
          "height": 153
        },
        "id": "Z2O5-Nua-_oj",
        "outputId": "d56333b7-61e6-4b93-f9af-062a68ed4c59"
      },
      "execution_count": 8,
      "outputs": [
        {
          "output_type": "error",
          "ename": "SystemExit",
          "evalue": "ignored",
          "traceback": [
            "An exception has occurred, use %tb to see the full traceback.\n",
            "\u001b[0;31mSystemExit\u001b[0m\n"
          ]
        },
        {
          "output_type": "stream",
          "name": "stderr",
          "text": [
            "/usr/local/lib/python3.7/dist-packages/IPython/core/interactiveshell.py:3334: UserWarning: To exit: use 'exit', 'quit', or Ctrl-D.\n",
            "  warn(\"To exit: use 'exit', 'quit', or Ctrl-D.\", stacklevel=1)\n"
          ]
        }
      ]
    },
    {
      "cell_type": "markdown",
      "source": [
        "#**datetime**\n",
        "\n",
        "🪕 [شرح مكتبة datetime في بايثون | تعامل مع الاوقات والتواريخ بسهولة](https://youtu.be/VNoTEPiU4_4?t=724)\n",
        " "
      ],
      "metadata": {
        "id": "TFKYwwjMUIFN"
      }
    },
    {
      "cell_type": "code",
      "source": [
        "import datetime"
      ],
      "metadata": {
        "id": "VFZldHtk1Jha"
      },
      "execution_count": 9,
      "outputs": []
    },
    {
      "cell_type": "markdown",
      "source": [
        "## date"
      ],
      "metadata": {
        "id": "cj0nRtaB2ZO4"
      }
    },
    {
      "cell_type": "code",
      "source": [
        "date = datetime.date(2021, 8, 30)\n",
        "print(date)\n",
        "print(type(date))"
      ],
      "metadata": {
        "colab": {
          "base_uri": "https://localhost:8080/"
        },
        "id": "6g7MCXIr1kaI",
        "outputId": "a1d2db16-9759-4380-f542-ea7e7984a7a9"
      },
      "execution_count": 16,
      "outputs": [
        {
          "output_type": "stream",
          "name": "stdout",
          "text": [
            "2021-08-30\n",
            "<class 'datetime.date'>\n"
          ]
        }
      ]
    },
    {
      "cell_type": "markdown",
      "source": [
        "### today"
      ],
      "metadata": {
        "id": "Vs6jUlwi2byP"
      }
    },
    {
      "cell_type": "code",
      "source": [
        "today = datetime.date.today()\n",
        "print('date:', today)\n",
        "print('day:', today.day)\n",
        "print('month:', today.month)\n",
        "print('year:', today.year)\n",
        "print('day(0 to 6) in week:', today.weekday())\n",
        "print('day(1 to 7) in week:', today.isoweekday())"
      ],
      "metadata": {
        "colab": {
          "base_uri": "https://localhost:8080/"
        },
        "id": "mxte4FAT2fnX",
        "outputId": "93aff647-550f-4094-f804-d663b21aaca1"
      },
      "execution_count": 34,
      "outputs": [
        {
          "output_type": "stream",
          "name": "stdout",
          "text": [
            "date: 2022-11-11\n",
            "day: 11\n",
            "month: 11\n",
            "year: 2022\n",
            "day(0 to 6) in week: 4\n",
            "day(1 to 7) in week: 5\n",
            "the rest of times: 51 days, 0:00:00\n",
            "the rest of days: 51\n",
            "the rest of seconds: <built-in method total_seconds of datetime.timedelta object at 0x7f5459dd2930>\n"
          ]
        }
      ]
    },
    {
      "cell_type": "markdown",
      "source": [
        "## timedelta"
      ],
      "metadata": {
        "id": "WmTBQC114Vc4"
      }
    },
    {
      "cell_type": "code",
      "source": [
        "today = datetime.date.today()\n",
        "delta = datetime.timedelta(days=30)\n",
        "print('date of 30 days ago:', today - delta)\n",
        "print('date of 30 days after: ', today + delta)\n",
        "next_year = datetime.date(2023, 1, 1)\n",
        "delta = next_year - today\n",
        "print('the rest of times:', delta) \n",
        "print('the rest of days:', delta.days)\n",
        "print('the rest of seconds:', delta.total_seconds())\n"
      ],
      "metadata": {
        "colab": {
          "base_uri": "https://localhost:8080/"
        },
        "id": "8fh8IK0O4Zav",
        "outputId": "46755a99-9e65-4ab4-ac97-12c27f6cd87d"
      },
      "execution_count": 36,
      "outputs": [
        {
          "output_type": "stream",
          "name": "stdout",
          "text": [
            "date of 30 days ago: 2022-10-12\n",
            "date of 30 days after:  2022-12-11\n",
            "the rest of times: 51 days, 0:00:00\n",
            "the rest of days: 51\n",
            "the rest of seconds: 4406400.0\n",
            "the rest of seconds: -999999999 days, 0:00:00\n"
          ]
        }
      ]
    },
    {
      "cell_type": "markdown",
      "source": [
        "## time"
      ],
      "metadata": {
        "id": "WDe_plS4_JFN"
      }
    },
    {
      "cell_type": "code",
      "source": [
        "time = datetime.time(11, 54, 33, 999999)\n",
        "print('time:', time)\n",
        "print('hour:', time.hour)\n",
        "print('minute:', time.minute)\n",
        "print('second:', time.second)\n",
        "print('microsecond:', time.microsecond)"
      ],
      "metadata": {
        "colab": {
          "base_uri": "https://localhost:8080/"
        },
        "id": "smN7jesq_LfE",
        "outputId": "3874957a-3b64-4309-b85d-f413c54ec370"
      },
      "execution_count": 39,
      "outputs": [
        {
          "output_type": "stream",
          "name": "stdout",
          "text": [
            "time: 11:54:33.999999\n",
            "hour: 11\n",
            "minute: 54\n",
            "second: 33\n",
            "microsecond: 999999\n"
          ]
        }
      ]
    },
    {
      "cell_type": "markdown",
      "source": [],
      "metadata": {
        "id": "rCg0D7qzVoRN"
      }
    }
  ]
}